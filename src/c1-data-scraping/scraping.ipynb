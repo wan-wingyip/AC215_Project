{
 "cells": [
  {
   "cell_type": "code",
   "execution_count": null,
   "metadata": {},
   "outputs": [],
   "source": [
    "import os\n",
    "import re\n",
    "import json\n",
    "import requests\n",
    "from bs4 import BeautifulSoup\n",
    "import time\n",
    "\n"
   ]
  },
  {
   "cell_type": "code",
   "execution_count": null,
   "metadata": {},
   "outputs": [],
   "source": [
    "#provide url for fixer uppers here:\n",
    "urls=['https://newyork.craigslist.org/search/ossining-ny/rea?bundleDuplicates=1&hasPic=1&lat=41.1673&lon=-73.8379&query=fixer%20upper&search_distance=590#search=1~gallery~0~0',\n",
    "      'https://cedarrapids.craigslist.org/search/middle-amana-ia/rea?bundleDuplicates=1&hasPic=1&lat=41.8024&lon=-91.9241&query=fixer%20upper&search_distance=550#search=1~gallery~0~0',\n",
    "      'https://siouxfalls.craigslist.org/search/lake-park-ia/rea?bundleDuplicates=1&hasPic=1&lat=43.4313&lon=-95.3152&query=fixer%20upper&search_distance=590#search=1~gallery~0~0',\n",
    "      'https://oklahomacity.craigslist.org/search/cromwell-ok/rea?bundleDuplicates=1&hasPic=1&lat=35.3627&lon=-96.3548&query=fixer%20upper&search_distance=590#search=1~gallery~0~0',\n",
    "      'https://shoals.craigslist.org/search/russellville-al/rea?bundleDuplicates=1&hasPic=1&lat=34.4789&lon=-87.6851&query=fixer%20upper&search_distance=590#search=1~gallery~0~0',\n",
    "      'https://littlerock.craigslist.org/search/story-ar/rea?bundleDuplicates=1&hasPic=1&lat=34.5177&lon=-93.4784&query=fixer%20upper&search_distance=590#search=1~gallery~0~0',\n",
    "      'https://amarillo.craigslist.org/search/white-deer-tx/rea?bundleDuplicates=1&hasPic=1&lat=35.3671&lon=-101.2498&query=fixer%20upper&search_distance=590#search=1~gallery~0~0',\n",
    "      'https://fortdodge.craigslist.org/search/humboldt-ia/rea?bundleDuplicates=1&hasPic=1&lat=42.7087&lon=-94.232&query=fixer%20upper&search_distance=590#search=1~gallery~0~0',\n",
    "      'https://wyoming.craigslist.org/search/powder-river-wy/rea?bundleDuplicates=1&hasPic=1&lat=43.3491&lon=-106.8546&query=fixer%20upper&search_distance=590#search=1~gallery~0~0',\n",
    "      'https://boise.craigslist.org/search/idaho-city-id/rea?bundleDuplicates=1&hasPic=1&lat=43.9336&lon=-115.7391&query=fixer%20upper&search_distance=590#search=1~gallery~0~0',\n",
    "      'https://nashville.craigslist.org/search/dickson-tn/rea?bundleDuplicates=1&hasPic=1&lat=36.0844&lon=-87.4926&query=fixer%20upper&search_distance=390#search=1~gallery~0~0',\n",
    "      'https://littlerock.craigslist.org/search/hot-springs-national-park-ar/rea?bundleDuplicates=1&hasPic=1&lat=34.5295&lon=-93.0207&query=fixer%20upper&search_distance=370#search=1~gallery~0~0',\n",
    "      'https://monroe.craigslist.org/search/marion-la/rea?bundleDuplicates=1&hasPic=1&lat=32.9349&lon=-92.2852&query=fixer%20upper&search_distance=290#search=1~gallery~0~0',\n",
    "      'https://dallas.craigslist.org/search/italy-tx/rea?bundleDuplicates=1&hasPic=1&lat=32.1198&lon=-96.8774&query=fixer%20upper&search_distance=290#search=1~gallery~0~0',\n",
    "      'https://nacogdoches.craigslist.org/search/garrison-tx/rea?bundleDuplicates=1&hasPic=1&lat=31.8199&lon=-94.5245&query=fixer%20upper&search_distance=220#search=1~gallery~0~0',\n",
    "      'https://collegestation.craigslist.org/search/burlington-tx/rea?bundleDuplicates=1&hasPic=1&lat=31.0026&lon=-96.8596&query=fixer%20upper&search_distance=168#search=1~gallery~0~0',\n",
    "      'https://westslope.craigslist.org/search/hanksville-ut/rea?bundleDuplicates=1&hasPic=1&lat=37.9362&lon=-110.4813&query=fixer%20upper&search_distance=590#search=1~gallery~0~0',\n",
    "      'https://eastky.craigslist.org/search/pinsonfork-ky/rea?bundleDuplicates=1&hasPic=1&lat=37.5264&lon=-82.2216&query=fixer%20upper&search_distance=590#search=1~gallery~0~0',\n",
    "      'https://westslope.craigslist.org/search/torrey-ut/rea?bundleDuplicates=1&hasPic=1&lat=38.2037&lon=-110.918&query=fixer%20upper&search_distance=550#search=1~gallery~0~0',\n",
    "      'https://bozeman.craigslist.org/search/yellowstone-national-park-wy/rea?bundleDuplicates=1&hasPic=1&lat=44.6363&lon=-110.0213&query=fixer%20upper&search_distance=690#search=1~gallery~0~0']\n",
    "\n",
    "\n",
    "\n",
    "\n",
    "\n"
   ]
  },
  {
   "cell_type": "code",
   "execution_count": null,
   "metadata": {},
   "outputs": [],
   "source": [
    "def images_download(url, folder_name_here):\n",
    "    headers = {\n",
    "        \"User-Agent\": \"Mozilla/5.0 (Windows NT 10.0; Win64; x64; rv:90.0) Gecko/20100101 Firefox/90.0\"\n",
    "    }\n",
    "\n",
    "    # Get the folder name\n",
    "    folder_name = folder_name_here+'/' + re.search(r'(\\d+).html$', url).group(1)\n",
    "    \n",
    "    # Check if directory exists\n",
    "    if os.path.exists(folder_name):\n",
    "        print(\"Duplicate exists for \", re.search(r'(\\d+).html$', url).group(1))\n",
    "        return\n",
    "\n",
    "    # If the directory doesn't exist, proceed with the scraping and downloading\n",
    "    os.makedirs(folder_name)\n",
    "\n",
    "    try:\n",
    "        response = requests.get(url, headers=headers)\n",
    "        response.raise_for_status()  # Raise an error for bad responses\n",
    "        soup = BeautifulSoup(response.content, 'html.parser')\n",
    "\n",
    "        # Extracting the JavaScript array using regular expression\n",
    "        script_content = soup.find('script', text=re.compile('var imgList = ')).string\n",
    "        img_list_str = re.search(r'var imgList = (\\[.*?\\]);', script_content).group(1)\n",
    "\n",
    "        # Parsing the extracted JSON string\n",
    "        img_list = json.loads(img_list_str)\n",
    "\n",
    "        # Getting all image URLs from the parsed JSON list\n",
    "        img_urls = [img['url'] for img in img_list]\n",
    "\n",
    "        # Download and save each image\n",
    "        for idx, img_url in enumerate(img_urls, 1):\n",
    "            img_response = requests.get(img_url, headers=headers)\n",
    "            img_response.raise_for_status()  # Raise an error for bad responses\n",
    "            with open(f'{folder_name}/image_{idx}.jpg', 'wb') as file:\n",
    "                file.write(img_response.content)\n",
    "            time.sleep(0.1)  # Sleep for a short while between image downloads\n",
    "        print(\"Images downloaded for: \", re.search(r'(\\d+).html$', url).group(1))\n",
    "    except requests.RequestException as e:\n",
    "        print(f\"Error encountered: {e}\")\n",
    "    except Exception as e:\n",
    "        print(f\"Unexpected error encountered: {e}\")\n"
   ]
  },
  {
   "cell_type": "code",
   "execution_count": 20,
   "metadata": {},
   "outputs": [],
   "source": [
    "def getting_all_house_links(urls:list):  #the urls are the list of urls we want to scrape. this is based on keywords such as fixer upper or renovated\n",
    "  def individual_url_getter(url):  #from the list of urls, each url is passed here. this function then gets house urls within the keyword based url.\n",
    "  \n",
    "    URL=url\n",
    "\n",
    "    headers = {\n",
    "        \"User-Agent\": \"Mozilla/5.0 (Windows NT 10.0; Win64; x64; rv:90.0) Gecko/20100101 Firefox/90.0\"\n",
    "    }\n",
    "\n",
    "    response = requests.get(URL, headers=headers)\n",
    "\n",
    "    soup = BeautifulSoup(response.content, \"html.parser\")\n",
    "\n",
    "    # Assuming your soup object is named 'soup'\n",
    "    links = soup.select('li.cl-static-search-result a')\n",
    "\n",
    "    # Extract the href attribute from each link\n",
    "    urls = [link['href'] for link in links]\n",
    "\n",
    "    return urls\n",
    "\n",
    "  all_urls=[]   #this is where all the house urls are saved\n",
    "  for idx, url in enumerate(urls):\n",
    "    print(idx)\n",
    "    url=url\n",
    "    print(url)\n",
    "    print('number of houses detected ', len(all_urls))\n",
    "    all_urls.extend(individual_url_getter(url))\n",
    "\n",
    "  all_urls=list(set(all_urls))\n",
    "  print('the number of unique housings by id are', len(all_urls))\n",
    "  return list(set(all_urls))"
   ]
  },
  {
   "cell_type": "code",
   "execution_count": null,
   "metadata": {},
   "outputs": [],
   "source": [
    "getting_all_house_links(urls)"
   ]
  },
  {
   "cell_type": "code",
   "execution_count": 28,
   "metadata": {},
   "outputs": [],
   "source": [
    "\n",
    "\n",
    "#start downloading images\n",
    "def scrape(target_older: str, urls: list):\n",
    "  all_urls=getting_all_house_links(urls)\n",
    "  \n",
    "  i=0\n",
    "  for url in all_urls:\n",
    "\n",
    "    time.sleep(1)\n",
    "    images_download(url, target_older)\n",
    "    i+=1\n",
    "    print('images downloaded for ' + str(i) + ' houses')"
   ]
  },
  {
   "cell_type": "code",
   "execution_count": null,
   "metadata": {},
   "outputs": [],
   "source": [
    "scrape('fixer_uppers', urls)"
   ]
  },
  {
   "cell_type": "markdown",
   "metadata": {},
   "source": [
    "# Starting the process for renovated now"
   ]
  },
  {
   "cell_type": "code",
   "execution_count": 29,
   "metadata": {},
   "outputs": [],
   "source": [
    "#renovated URL here\n",
    "renovated_urls=['https://bgky.craigslist.org/search/woodbury-ky/rea?bundleDuplicates=1&hasPic=1&lat=37.089&lon=-86.6147&min_price=100000&query=renovated&search_distance=810#search=1~gallery~0~0',\n",
    "      'https://nwks.craigslist.org/search/wilsonville-ne/rea?bundleDuplicates=1&hasPic=1&lat=40.0565&lon=-100.0696&min_price=100000&query=renovated&search_distance=810#search=1~gallery~0~0',\n",
    "      'https://scottsbluff.craigslist.org/search/crook-co/rea?bundleDuplicates=1&hasPic=1&lat=40.9897&lon=-102.795&min_price=100000&query=renovated&search_distance=630#search=1~gallery~0~0',\n",
    "      'https://elko.craigslist.org/search/montello-nv/rea?bundleDuplicates=1&hasPic=1&lat=41.5994&lon=-113.9402&min_price=100000&query=renovated&search_distance=630#search=1~gallery~0~0',\n",
    "      'https://columbiamo.craigslist.org/search/arrow-rock-mo/rea?bundleDuplicates=1&hasPic=1&lat=39.1383&lon=-92.8717&query=renovated&search_distance=600#search=1~gallery~0~0',\n",
    "      'https://boston.craigslist.org/search/boston-ma/rea?lat=42.3583&lon=-71.0603&min_price=100000&query=renovated&search_distance=1000#search=1~gallery~0~0',\n",
    "      'https://tulsa.craigslist.org/search/quinton-ok/rea?bundleDuplicates=1&hasPic=1&lat=35.1979&lon=-95.5471&query=renovated&search_distance=600#search=1~gallery~0~0',\n",
    "      'https://evansville.craigslist.org/search/wheatland-in/rea?bundleDuplicates=1&hasPic=1&lat=38.6386&lon=-87.2612&query=renovated&search_distance=580#search=1~gallery~0~0',\n",
    "      'https://littlerock.craigslist.org/search/gurdon-ar/rea?bundleDuplicates=1&hasPic=1&lat=33.951&lon=-92.9979&query=renovated&search_distance=330#search=1~gallery~0~0',\n",
    "      'https://tuscaloosa.craigslist.org/search/bankston-al/rea?bundleDuplicates=1&hasPic=1&lat=33.7833&lon=-87.647&query=renovated&search_distance=330#search=1~gallery~0~0',\n",
    "      'https://atlanta.craigslist.org/search/roopville-ga/rea?bundleDuplicates=1&hasPic=1&lat=33.4681&lon=-85.1735&query=renovated&search_distance=330#search=1~gallery~0~0',\n",
    "      'https://jacksonville.craigslist.org/search/saint-george-ga/rea?bundleDuplicates=1&hasPic=1&lat=30.7101&lon=-82.2709&query=renovated&search_distance=330#search=1~gallery~0~0',\n",
    "      'https://treasure.craigslist.org/search/okeechobee-fl/rea?bundleDuplicates=1&hasPic=1&lat=27.0004&lon=-80.8594&query=renovated&search_distance=152#search=1~gallery~0~0'\n",
    "\n",
    "      ]\n",
    "\n",
    "\n",
    "# sample_url='https://boston.craigslist.org/search/boston-ma/rea?lat=42.3583&lon=-71.0603&min_price=100000&query=renovated&search_distance=1000#search=1~gallery~0~0'\n",
    "\n",
    "\n",
    "\n",
    "# image_url_getter(sample_url)\n",
    "\n"
   ]
  },
  {
   "cell_type": "code",
   "execution_count": null,
   "metadata": {},
   "outputs": [],
   "source": [
    "scrape('renovated_new', renovated_urls)"
   ]
  },
  {
   "cell_type": "code",
   "execution_count": null,
   "metadata": {},
   "outputs": [],
   "source": []
  }
 ],
 "metadata": {
  "kernelspec": {
   "display_name": "cs109a",
   "language": "python",
   "name": "python3"
  },
  "language_info": {
   "codemirror_mode": {
    "name": "ipython",
    "version": 3
   },
   "file_extension": ".py",
   "mimetype": "text/x-python",
   "name": "python",
   "nbconvert_exporter": "python",
   "pygments_lexer": "ipython3",
   "version": "3.11.5"
  },
  "orig_nbformat": 4
 },
 "nbformat": 4,
 "nbformat_minor": 2
}
