{
  "nbformat": 4,
  "nbformat_minor": 0,
  "metadata": {
    "colab": {
      "provenance": [],
      "machine_shape": "hm",
      "collapsed_sections": [
        "kExzqVe1L71N",
        "m17hY2Ek7J5j",
        "l3u-NZ4aL1js",
        "AYpOZCyz-yes"
      ],
      "toc_visible": true
    },
    "kernelspec": {
      "name": "python3",
      "display_name": "Python 3"
    },
    "language_info": {
      "name": "python"
    },
    "accelerator": "TPU",
    "widgets": {
      "application/vnd.jupyter.widget-state+json": {
        "ef435261468f4bb691dc73ac04802ed7": {
          "model_module": "@jupyter-widgets/controls",
          "model_name": "VBoxModel",
          "model_module_version": "1.5.0",
          "state": {
            "_dom_classes": [],
            "_model_module": "@jupyter-widgets/controls",
            "_model_module_version": "1.5.0",
            "_model_name": "VBoxModel",
            "_view_count": null,
            "_view_module": "@jupyter-widgets/controls",
            "_view_module_version": "1.5.0",
            "_view_name": "VBoxView",
            "box_style": "",
            "children": [
              "IPY_MODEL_099a94cdd0da416bbacfe7b95cc54ccd",
              "IPY_MODEL_2e8813c4365449babaf0aec3593f01ae"
            ],
            "layout": "IPY_MODEL_16fd6684c37f4621a0247ab1c13cc021"
          }
        },
        "099a94cdd0da416bbacfe7b95cc54ccd": {
          "model_module": "@jupyter-widgets/controls",
          "model_name": "LabelModel",
          "model_module_version": "1.5.0",
          "state": {
            "_dom_classes": [],
            "_model_module": "@jupyter-widgets/controls",
            "_model_module_version": "1.5.0",
            "_model_name": "LabelModel",
            "_view_count": null,
            "_view_module": "@jupyter-widgets/controls",
            "_view_module_version": "1.5.0",
            "_view_name": "LabelView",
            "description": "",
            "description_tooltip": null,
            "layout": "IPY_MODEL_d8c502791c9648e5b89b978e1d434447",
            "placeholder": "​",
            "style": "IPY_MODEL_ff23bbfcad424329a0e199ec4476b368",
            "value": "670.196 MB of 748.942 MB uploaded (0.000 MB deduped)\r"
          }
        },
        "2e8813c4365449babaf0aec3593f01ae": {
          "model_module": "@jupyter-widgets/controls",
          "model_name": "FloatProgressModel",
          "model_module_version": "1.5.0",
          "state": {
            "_dom_classes": [],
            "_model_module": "@jupyter-widgets/controls",
            "_model_module_version": "1.5.0",
            "_model_name": "FloatProgressModel",
            "_view_count": null,
            "_view_module": "@jupyter-widgets/controls",
            "_view_module_version": "1.5.0",
            "_view_name": "ProgressView",
            "bar_style": "",
            "description": "",
            "description_tooltip": null,
            "layout": "IPY_MODEL_fe16db98b12e4782aa1386bc66d8f8ec",
            "max": 1,
            "min": 0,
            "orientation": "horizontal",
            "style": "IPY_MODEL_d14e89001bae469c93eea87269570fb7",
            "value": 0.8948576205646459
          }
        },
        "16fd6684c37f4621a0247ab1c13cc021": {
          "model_module": "@jupyter-widgets/base",
          "model_name": "LayoutModel",
          "model_module_version": "1.2.0",
          "state": {
            "_model_module": "@jupyter-widgets/base",
            "_model_module_version": "1.2.0",
            "_model_name": "LayoutModel",
            "_view_count": null,
            "_view_module": "@jupyter-widgets/base",
            "_view_module_version": "1.2.0",
            "_view_name": "LayoutView",
            "align_content": null,
            "align_items": null,
            "align_self": null,
            "border": null,
            "bottom": null,
            "display": null,
            "flex": null,
            "flex_flow": null,
            "grid_area": null,
            "grid_auto_columns": null,
            "grid_auto_flow": null,
            "grid_auto_rows": null,
            "grid_column": null,
            "grid_gap": null,
            "grid_row": null,
            "grid_template_areas": null,
            "grid_template_columns": null,
            "grid_template_rows": null,
            "height": null,
            "justify_content": null,
            "justify_items": null,
            "left": null,
            "margin": null,
            "max_height": null,
            "max_width": null,
            "min_height": null,
            "min_width": null,
            "object_fit": null,
            "object_position": null,
            "order": null,
            "overflow": null,
            "overflow_x": null,
            "overflow_y": null,
            "padding": null,
            "right": null,
            "top": null,
            "visibility": null,
            "width": null
          }
        },
        "d8c502791c9648e5b89b978e1d434447": {
          "model_module": "@jupyter-widgets/base",
          "model_name": "LayoutModel",
          "model_module_version": "1.2.0",
          "state": {
            "_model_module": "@jupyter-widgets/base",
            "_model_module_version": "1.2.0",
            "_model_name": "LayoutModel",
            "_view_count": null,
            "_view_module": "@jupyter-widgets/base",
            "_view_module_version": "1.2.0",
            "_view_name": "LayoutView",
            "align_content": null,
            "align_items": null,
            "align_self": null,
            "border": null,
            "bottom": null,
            "display": null,
            "flex": null,
            "flex_flow": null,
            "grid_area": null,
            "grid_auto_columns": null,
            "grid_auto_flow": null,
            "grid_auto_rows": null,
            "grid_column": null,
            "grid_gap": null,
            "grid_row": null,
            "grid_template_areas": null,
            "grid_template_columns": null,
            "grid_template_rows": null,
            "height": null,
            "justify_content": null,
            "justify_items": null,
            "left": null,
            "margin": null,
            "max_height": null,
            "max_width": null,
            "min_height": null,
            "min_width": null,
            "object_fit": null,
            "object_position": null,
            "order": null,
            "overflow": null,
            "overflow_x": null,
            "overflow_y": null,
            "padding": null,
            "right": null,
            "top": null,
            "visibility": null,
            "width": null
          }
        },
        "ff23bbfcad424329a0e199ec4476b368": {
          "model_module": "@jupyter-widgets/controls",
          "model_name": "DescriptionStyleModel",
          "model_module_version": "1.5.0",
          "state": {
            "_model_module": "@jupyter-widgets/controls",
            "_model_module_version": "1.5.0",
            "_model_name": "DescriptionStyleModel",
            "_view_count": null,
            "_view_module": "@jupyter-widgets/base",
            "_view_module_version": "1.2.0",
            "_view_name": "StyleView",
            "description_width": ""
          }
        },
        "fe16db98b12e4782aa1386bc66d8f8ec": {
          "model_module": "@jupyter-widgets/base",
          "model_name": "LayoutModel",
          "model_module_version": "1.2.0",
          "state": {
            "_model_module": "@jupyter-widgets/base",
            "_model_module_version": "1.2.0",
            "_model_name": "LayoutModel",
            "_view_count": null,
            "_view_module": "@jupyter-widgets/base",
            "_view_module_version": "1.2.0",
            "_view_name": "LayoutView",
            "align_content": null,
            "align_items": null,
            "align_self": null,
            "border": null,
            "bottom": null,
            "display": null,
            "flex": null,
            "flex_flow": null,
            "grid_area": null,
            "grid_auto_columns": null,
            "grid_auto_flow": null,
            "grid_auto_rows": null,
            "grid_column": null,
            "grid_gap": null,
            "grid_row": null,
            "grid_template_areas": null,
            "grid_template_columns": null,
            "grid_template_rows": null,
            "height": null,
            "justify_content": null,
            "justify_items": null,
            "left": null,
            "margin": null,
            "max_height": null,
            "max_width": null,
            "min_height": null,
            "min_width": null,
            "object_fit": null,
            "object_position": null,
            "order": null,
            "overflow": null,
            "overflow_x": null,
            "overflow_y": null,
            "padding": null,
            "right": null,
            "top": null,
            "visibility": null,
            "width": null
          }
        },
        "d14e89001bae469c93eea87269570fb7": {
          "model_module": "@jupyter-widgets/controls",
          "model_name": "ProgressStyleModel",
          "model_module_version": "1.5.0",
          "state": {
            "_model_module": "@jupyter-widgets/controls",
            "_model_module_version": "1.5.0",
            "_model_name": "ProgressStyleModel",
            "_view_count": null,
            "_view_module": "@jupyter-widgets/base",
            "_view_module_version": "1.2.0",
            "_view_name": "StyleView",
            "bar_color": null,
            "description_width": ""
          }
        }
      }
    }
  },
  "cells": [
    {
      "cell_type": "markdown",
      "source": [
        "The code below assumes that you have the images in this directory. to download images you can use the link shared. https://drive.google.com/drive/folders/1vz8jXuCJC8SBMewpA6BQybaS-GrDIeAI?usp=drive_link"
      ],
      "metadata": {
        "id": "Hrdgv8Xs5KK7"
      }
    },
    {
      "cell_type": "markdown",
      "metadata": {
        "id": "brud8EZQYAae"
      },
      "source": [
        "## **<font color=\"#A41034\">Setup Notebook</font>**"
      ]
    },
    {
      "cell_type": "markdown",
      "source": [],
      "metadata": {
        "id": "BwK9_6ihpt2A"
      }
    },
    {
      "cell_type": "markdown",
      "source": [
        "#### **Configuration**"
      ],
      "metadata": {
        "id": "kCz9OVSiLp-a"
      }
    },
    {
      "cell_type": "code",
      "source": [
        "## Global configuration settings to faciliate Colab and VM training\n",
        "RUN_IN_VM = False\n",
        "GET_IMAGES_FROM_GCSBUCKET_LEC8 = False\n",
        "GET_IMAGES_FROM_GCSBUCKET_PROJ = True\n",
        "USE_MOBILENET_AS_TEACHER = False\n",
        "USE_VGG16_AS_TEACHER = True"
      ],
      "metadata": {
        "id": "Wp-QiBRq7P9n"
      },
      "execution_count": null,
      "outputs": []
    },
    {
      "cell_type": "markdown",
      "metadata": {
        "id": "BD93OZdoR_wW"
      },
      "source": [
        "#### **Installs**"
      ]
    },
    {
      "cell_type": "code",
      "source": [
        "!pip install -q wandb"
      ],
      "metadata": {
        "colab": {
          "base_uri": "https://localhost:8080/"
        },
        "id": "RRuIoUQuUoMG",
        "outputId": "eb81ed15-418c-4179-9e7a-b03009a964f9"
      },
      "execution_count": null,
      "outputs": [
        {
          "output_type": "stream",
          "name": "stdout",
          "text": [
            "\u001b[2K     \u001b[90m━━━━━━━━━━━━━━━━━━━━━━━━━━━━━━━━━━━━━━━━\u001b[0m \u001b[32m2.1/2.1 MB\u001b[0m \u001b[31m23.9 MB/s\u001b[0m eta \u001b[36m0:00:00\u001b[0m\n",
            "\u001b[2K     \u001b[90m━━━━━━━━━━━━━━━━━━━━━━━━━━━━━━━━━━━━━━━━\u001b[0m \u001b[32m190.6/190.6 kB\u001b[0m \u001b[31m22.1 MB/s\u001b[0m eta \u001b[36m0:00:00\u001b[0m\n",
            "\u001b[2K     \u001b[90m━━━━━━━━━━━━━━━━━━━━━━━━━━━━━━━━━━━━━━━━\u001b[0m \u001b[32m241.0/241.0 kB\u001b[0m \u001b[31m26.9 MB/s\u001b[0m eta \u001b[36m0:00:00\u001b[0m\n",
            "\u001b[?25h  Preparing metadata (setup.py) ... \u001b[?25l\u001b[?25hdone\n",
            "\u001b[2K     \u001b[90m━━━━━━━━━━━━━━━━━━━━━━━━━━━━━━━━━━━━━━━━\u001b[0m \u001b[32m62.7/62.7 kB\u001b[0m \u001b[31m7.6 MB/s\u001b[0m eta \u001b[36m0:00:00\u001b[0m\n",
            "\u001b[?25h  Building wheel for pathtools (setup.py) ... \u001b[?25l\u001b[?25hdone\n"
          ]
        }
      ]
    },
    {
      "cell_type": "markdown",
      "source": [
        "#### **Imports**"
      ],
      "metadata": {
        "id": "kExzqVe1L71N"
      }
    },
    {
      "cell_type": "code",
      "source": [
        "import argparse\n",
        "import os\n",
        "import requests\n",
        "import zipfile\n",
        "import tarfile\n",
        "import shutil\n",
        "import time\n",
        "import json\n",
        "from glob import glob\n",
        "import pandas as pd\n",
        "import matplotlib.pyplot as plt\n",
        "import numpy as np\n",
        "\n",
        "# Tensorflow\n",
        "import tensorflow as tf\n",
        "from tensorflow import keras\n",
        "from tensorflow.keras.models import Model, Sequential\n",
        "from tensorflow.keras.utils import to_categorical\n",
        "from tensorflow.python.keras import backend as K\n",
        "from tensorflow.python.keras.utils.layer_utils import count_params\n",
        "\n",
        "# fixer related\n",
        "from tensorflow.keras.applications import VGG16\n",
        "from tensorflow.keras.optimizers import Adam\n",
        "from tensorflow.keras.layers import Input, Flatten, Dense\n",
        "import scipy\n",
        "\n",
        "# sklearn\n",
        "from sklearn.model_selection import train_test_split\n",
        "\n",
        "# Tensorflow Hub\n",
        "import tensorflow_hub as hub\n",
        "\n",
        "# W&B\n",
        "import wandb\n",
        "from wandb.keras import WandbCallback, WandbMetricsLogger\n",
        "\n",
        "# cloud storage\n",
        "from google.cloud import storage"
      ],
      "metadata": {
        "id": "UpmK3DEx7hJM"
      },
      "execution_count": null,
      "outputs": []
    },
    {
      "cell_type": "markdown",
      "source": [
        "#### **Argument Parser**"
      ],
      "metadata": {
        "id": "m17hY2Ek7J5j"
      }
    },
    {
      "cell_type": "code",
      "source": [
        "# Setup the arguments for the trainer task\n",
        "\n",
        "if RUN_IN_VM:\n",
        "  parser = argparse.ArgumentParser()\n",
        "  parser.add_argument(\n",
        "      \"--model-dir\", dest=\"model_dir\", default=\"test\", type=str, help=\"Model dir.\"\n",
        "  )\n",
        "  parser.add_argument(\"--lr\", dest=\"lr\", default=0.001, type=float, help=\"Learning rate.\")\n",
        "  parser.add_argument(\n",
        "      \"--model_name\",\n",
        "      dest=\"model_name\",\n",
        "      default=\"mobilenetv2\",\n",
        "      type=str,\n",
        "      help=\"Model name\",\n",
        "  )\n",
        "  parser.add_argument(\n",
        "      \"--train_base\",\n",
        "      dest=\"train_base\",\n",
        "      default=False,\n",
        "      action=\"store_true\",\n",
        "      help=\"Train base or not\",\n",
        "  )\n",
        "  parser.add_argument(\n",
        "      \"--epochs\", dest=\"epochs\", default=10, type=int, help=\"Number of epochs.\"\n",
        "  )\n",
        "  parser.add_argument(\n",
        "      \"--batch_size\", dest=\"batch_size\", default=16, type=int, help=\"Size of a batch.\"\n",
        "  )\n",
        "  parser.add_argument(\n",
        "      \"--wandb_key\", dest=\"wandb_key\", default=\"16\", type=str, help=\"WandB API Key\"\n",
        "  )\n",
        "  args = parser.parse_args()\n"
      ],
      "metadata": {
        "id": "uedTg7EKLl4N"
      },
      "execution_count": null,
      "outputs": []
    },
    {
      "cell_type": "markdown",
      "metadata": {
        "id": "a7dn5xTsgg84"
      },
      "source": [
        "#### **Model Parameters**"
      ]
    },
    {
      "cell_type": "code",
      "source": [
        "## other parameters\n",
        "img_height = 224\n",
        "img_width  = 224\n",
        "img_channel = 3                 ## imagenet is trained on RGB\n",
        "num_classes = 2\n",
        "\n",
        "if RUN_IN_VM:\n",
        "  ## for running in VM\n",
        "  model_name = args.model_name\n",
        "  train_base = args.train_base\n",
        "  learning_rate = args.lr\n",
        "  batch_size = args.batch_size\n",
        "  epochs = args.epochs\n",
        "else:\n",
        "  ## for running in local Colab\n",
        "  model_name = \"vgg16_train_base\"\n",
        "  train_base = True\n",
        "  learning_rate = 0.001\n",
        "  batch_size = 32\n",
        "  epochs = 5"
      ],
      "metadata": {
        "id": "LbZEUmTGgdvI"
      },
      "execution_count": null,
      "outputs": []
    },
    {
      "cell_type": "markdown",
      "source": [
        "#### **Verify Setup**\n",
        "\n",
        "It is a good practice to verify what version of TensorFlow & Keras you are using. Also verify if GPU is enabled and what GPU you have. Run the following cells to check the version of TensorFlow\n",
        "\n",
        "References:\n",
        "- [Eager Execution](https://www.tensorflow.org/guide/eager)\n",
        "- [Data Performance](https://www.tensorflow.org/guide/data_performance)"
      ],
      "metadata": {
        "id": "l3u-NZ4aL1js"
      }
    },
    {
      "cell_type": "code",
      "source": [
        "# TF Version\n",
        "print(\"tensorflow version\", tf.__version__)\n",
        "print(\"Eager Execution Enabled:\", tf.executing_eagerly())\n",
        "# Get the number of replicas\n",
        "strategy = tf.distribute.MirroredStrategy()\n",
        "print(\"Number of replicas:\", strategy.num_replicas_in_sync)\n",
        "\n",
        "devices = tf.config.experimental.get_visible_devices()\n",
        "print(\"Devices:\", devices)\n",
        "print(tf.config.experimental.list_logical_devices(\"GPU\"))\n",
        "\n",
        "print(\"GPU Available: \", tf.config.list_physical_devices(\"GPU\"))\n",
        "print(\"All Physical Devices\", tf.config.list_physical_devices())\n",
        "\n"
      ],
      "metadata": {
        "colab": {
          "base_uri": "https://localhost:8080/"
        },
        "id": "wA56VX6rL4mf",
        "outputId": "fbc65518-7399-4c29-c040-b9c630dfdd5d"
      },
      "execution_count": null,
      "outputs": [
        {
          "output_type": "stream",
          "name": "stderr",
          "text": [
            "WARNING:tensorflow:There are non-GPU devices in `tf.distribute.Strategy`, not using nccl allreduce.\n"
          ]
        },
        {
          "output_type": "stream",
          "name": "stdout",
          "text": [
            "tensorflow version 2.12.0\n",
            "Eager Execution Enabled: True\n",
            "Number of replicas: 1\n",
            "Devices: [PhysicalDevice(name='/physical_device:CPU:0', device_type='CPU')]\n",
            "[]\n",
            "GPU Available:  []\n",
            "All Physical Devices [PhysicalDevice(name='/physical_device:CPU:0', device_type='CPU')]\n"
          ]
        }
      ]
    },
    {
      "cell_type": "markdown",
      "metadata": {
        "id": "gLHH1CX6Yg1M"
      },
      "source": [
        "#### **Utils**\n",
        "\n",
        "Here are some util functions that are used for this notebook\n",
        "* progressbar()\n",
        "* get_model_size()\n",
        "* JsonEncoder\n",
        "* save_model()\n",
        "* evaluate_model()\n",
        "* parse_tfrecord_example()\n",
        "* normalize()\n",
        "* create_dataset()"
      ]
    },
    {
      "cell_type": "code",
      "source": [
        "def progressbar(n_step, n_total):\n",
        "    \"\"\"Prints self-updating progress bar to stdout to track for-loop progress\n",
        "\n",
        "    There are entire 3rd-party libraries dedicated to custom progress-bars.\n",
        "    A simple function like this is often more than enough to get the job done.\n",
        "\n",
        "    :param n_total: total number of expected for-loop iterations\n",
        "    :type n_total: int\n",
        "    :param n_step: current iteration number, starting at 0\n",
        "    :type n_step: int\n",
        "\n",
        "    .. example::\n",
        "\n",
        "        for i in range(n_iterations):\n",
        "            progressbar(i, n_iterations)\n",
        "\n",
        "    .. source:\n",
        "\n",
        "        This function is a simplified version of code found here:\n",
        "        https://stackoverflow.com/questions/3160699/python-progress-bar/15860757#15860757\n",
        "    \"\"\"\n",
        "\n",
        "    import sys                                                     ## import this library to stdio\n",
        "\n",
        "    n_step = n_step + 1\n",
        "    barlen = 50\n",
        "    progress = n_step / n_total\n",
        "    block = int(round(barlen * progress))\n",
        "    status = \"\"\n",
        "    if n_step == n_total:\n",
        "        status = \"Done...\\r\\n\\n\"\n",
        "    text = \"\\r [{0}] {1}/{2} {3}\".format(\n",
        "        \"=\" * block + \"-\" * (barlen - block),\n",
        "        n_step,\n",
        "        n_total,\n",
        "        status,\n",
        "    )\n",
        "    sys.stdout.write(text)\n",
        "    sys.stdout.flush()"
      ],
      "metadata": {
        "id": "jIR8n9q_jgEx"
      },
      "execution_count": null,
      "outputs": []
    },
    {
      "cell_type": "code",
      "source": [
        "def get_model_size(model_name=\"model01\"):\n",
        "  model_size = os.stat(os.path.join(experiment_name,model_name+\".hdf5\")).st_size\n",
        "  return model_size\n"
      ],
      "metadata": {
        "id": "9BMCZtygAS7r"
      },
      "execution_count": null,
      "outputs": []
    },
    {
      "cell_type": "code",
      "source": [
        "class JsonEncoder(json.JSONEncoder):\n",
        "  def default(self, obj):\n",
        "    if isinstance(obj, np.integer):\n",
        "        return int(obj)\n",
        "    elif isinstance(obj, np.floating):\n",
        "        return float(obj)\n",
        "    elif isinstance(obj, decimal.Decimal):\n",
        "        return float(obj)\n",
        "    elif isinstance(obj, np.ndarray):\n",
        "        return obj.tolist()\n",
        "    else:\n",
        "        return super(JsonEncoder, self).default(obj)"
      ],
      "metadata": {
        "id": "p8lEylM6A20b"
      },
      "execution_count": null,
      "outputs": []
    },
    {
      "cell_type": "code",
      "source": [
        "experiment_name = \"models\"\n",
        "def save_model(model,model_train_history,execution_time, learning_rate, epochs, optimizer, evaluation_results):\n",
        "  model_name=model.name\n",
        "\n",
        "  # Ensure path exists\n",
        "  if not os.path.exists(experiment_name):\n",
        "      os.mkdir(experiment_name)\n",
        "  # Save the enitire model (structure + weights)\n",
        "  model.save(os.path.join(experiment_name,model_name+\".hdf5\"))\n",
        "\n",
        "  # Save only the weights\n",
        "  model.save_weights(os.path.join(experiment_name,model_name+\".h5\"))\n",
        "\n",
        "  # Save the structure only\n",
        "  model_json = model.to_json()\n",
        "  with open(os.path.join(experiment_name,model_name+\".json\"), \"w\") as json_file:\n",
        "      json_file.write(model_json)\n",
        "\n",
        "  model_size = get_model_size(model_name=model.name)\n",
        "\n",
        "  # Save model history\n",
        "  with open(os.path.join(experiment_name,model.name+\"_train_history.json\"), \"w\") as json_file:\n",
        "      json_file.write(json.dumps(model_train_history,cls=JsonEncoder))\n",
        "\n",
        "  trainable_parameters = count_params(model.trainable_weights)\n",
        "  non_trainable_parameters = count_params(model.non_trainable_weights)\n",
        "\n",
        "  # Save model metrics\n",
        "  metrics ={\n",
        "      \"trainable_parameters\":trainable_parameters,\n",
        "      \"execution_time\":execution_time,\n",
        "      \"loss\":evaluation_results[0],\n",
        "      \"accuracy\":evaluation_results[1],\n",
        "      \"model_size\":model_size,\n",
        "      \"learning_rate\":learning_rate,\n",
        "      \"batch_size\":batch_size,\n",
        "      \"epochs\":epochs,\n",
        "      \"optimizer\":type(optimizer).__name__\n",
        "  }\n",
        "  with open(os.path.join(experiment_name,model.name+\"_model_metrics.json\"), \"w\") as json_file:\n",
        "      json_file.write(json.dumps(metrics,cls=JsonEncoder))\n"
      ],
      "metadata": {
        "id": "1EssrQ8UAHYO"
      },
      "execution_count": null,
      "outputs": []
    },
    {
      "cell_type": "code",
      "source": [
        "def evaluate_model(model,test_data, model_train_history,execution_time,\n",
        "                        learning_rate, batch_size, epochs, optimizer,\n",
        "                        save=True,\n",
        "                        loss_metrics=[\"loss\",\"val_loss\"],\n",
        "                        acc_metrics=[\"accuracy\",\"val_accuracy\"]):\n",
        "\n",
        "  # Get the number of epochs the training was run for\n",
        "  num_epochs = len(model_train_history[loss_metrics[0]])\n",
        "\n",
        "  # Plot training results\n",
        "  fig = plt.figure(figsize=(15,5))\n",
        "  axs = fig.add_subplot(1,2,1)\n",
        "  axs.set_title('Loss')\n",
        "  # Plot all metrics\n",
        "  for metric in loss_metrics:\n",
        "      axs.plot(np.arange(0, num_epochs), model_train_history[metric], label=metric)\n",
        "  axs.legend()\n",
        "\n",
        "  axs = fig.add_subplot(1,2,2)\n",
        "  axs.set_title('Accuracy')\n",
        "  # Plot all metrics\n",
        "  for metric in acc_metrics:\n",
        "      axs.plot(np.arange(0, num_epochs), model_train_history[metric], label=metric)\n",
        "  axs.legend()\n",
        "\n",
        "  plt.show()\n",
        "\n",
        "  # Evaluate on test data\n",
        "  evaluation_results = model.evaluate(test_data, return_dict=True)\n",
        "  print(evaluation_results)\n",
        "\n",
        "  evaluation_results = [evaluation_results[loss_metrics[0]], evaluation_results[acc_metrics[0]]]\n",
        "\n",
        "  if save:\n",
        "    # Save model\n",
        "    save_model(model, model_train_history,execution_time, learning_rate, epochs, optimizer, evaluation_results)\n",
        "\n",
        "  return evaluation_results"
      ],
      "metadata": {
        "id": "0cs12zeM_9wY"
      },
      "execution_count": null,
      "outputs": []
    },
    {
      "cell_type": "code",
      "source": [
        "## this function parses each photo and defines the size of the image and the label\n",
        "## It is used in the create_dataset() function\n",
        "\n",
        "# @tf.function\n",
        "def parse_tfrecord_example(example_proto):\n",
        "\n",
        "  # Read TF Records\n",
        "  feature_description = {\n",
        "      'image': tf.io.FixedLenFeature([], tf.string),\n",
        "      'label': tf.io.FixedLenFeature([], tf.int64)\n",
        "  }\n",
        "\n",
        "  parsed_example = tf.io.parse_single_example(example_proto, feature_description)\n",
        "\n",
        "  # Image\n",
        "  # image = tf.image.decode_jpeg(parsed_example['image'])\n",
        "  image = tf.io.decode_raw(parsed_example['image'], tf.uint8)\n",
        "  image.set_shape([img_channel * img_height * img_width])\n",
        "  image = tf.reshape(image, [img_height, img_width, img_channel])\n",
        "  # Label\n",
        "  label = tf.cast(parsed_example['label'], tf.int32)\n",
        "  #label = tf.one_hot(label, num_classes)\n",
        "\n",
        "  return image, label"
      ],
      "metadata": {
        "id": "_k6Xn8xnUjWt"
      },
      "execution_count": null,
      "outputs": []
    },
    {
      "cell_type": "code",
      "source": [
        "## this function normalizes the pixels in the image\n",
        "## it is used in the create_dataset() function\n",
        "\n",
        "# Normalize pixels\n",
        "def normalize(image, label):\n",
        "  image = image/255\n",
        "  return image, label"
      ],
      "metadata": {
        "id": "FsOAQmbWUj97"
      },
      "execution_count": null,
      "outputs": []
    },
    {
      "cell_type": "code",
      "source": [
        "# This function creates the tf-records prefetch object\n",
        "# you can specify which tf-records to pull from, thus creating your train, val, test sets\n",
        "\n",
        "def create_dataset(batch_size,\n",
        "                   num_channels,\n",
        "                   image_height,\n",
        "                   image_width,\n",
        "                   num_classes,\n",
        "                   records_dir,\n",
        "                   prefix):\n",
        "\n",
        "  # Read the tfrecord files\n",
        "  tfrecord_files = tf.data.Dataset.list_files(records_dir + prefix)\n",
        "\n",
        "  #############\n",
        "  # Train data\n",
        "  #############\n",
        "  data = tfrecord_files.flat_map(tf.data.TFRecordDataset)\n",
        "  data = data.map(parse_tfrecord_example, num_parallel_calls=tf.data.AUTOTUNE)\n",
        "  data = data.map(normalize, num_parallel_calls=tf.data.AUTOTUNE)\n",
        "  data = data.batch(batch_size)\n",
        "  data = data.prefetch(buffer_size=tf.data.AUTOTUNE)\n",
        "\n",
        "  return data\n"
      ],
      "metadata": {
        "id": "yFyhIEOSZqwC"
      },
      "execution_count": null,
      "outputs": []
    },
    {
      "cell_type": "markdown",
      "metadata": {
        "id": "nKcIv5sgBQ4b"
      },
      "source": [
        "## **<font color=\"#A41034\">Real Estate (Fixer vs Renovated) Image Dataset</font>**"
      ]
    },
    {
      "cell_type": "markdown",
      "metadata": {
        "id": "sp3fAxUH_pyz"
      },
      "source": [
        "## **<font color=\"#A41034\">Build the data pipeline</font>**"
      ]
    },
    {
      "cell_type": "markdown",
      "source": [
        "#### **Download TF Records from Project Bucket**"
      ],
      "metadata": {
        "id": "VlZ2cDXdDqCq"
      }
    },
    {
      "cell_type": "code",
      "source": [
        "# Define these variables before running function\n",
        "if RUN_IN_VM:\n",
        "  ## run in VM\n",
        "  local_dir = './tf-records'\n",
        "  secrets_json = './secrets/gcp-rehab-ai-secret.json'\n",
        "  records_dir = './tf-records'           ## directory where the tf-records are pulling from\n",
        "else:\n",
        "  ## run in local colab\n",
        "  local_dir = '/content/tf-records'\n",
        "  secrets_json = '/content/secrets/gcp-rehab-ai-secret.json'\n",
        "  records_dir = '/content/tf-records'       ## directory where the tf-records are pulling from\n",
        "\n",
        "gcp_dir = 'tf-records'\n",
        "bucket_name = \"rehab-image-detection-data\""
      ],
      "metadata": {
        "id": "VS2VOQPSqb0J"
      },
      "execution_count": null,
      "outputs": []
    },
    {
      "cell_type": "code",
      "source": [
        "## download the TF Records from project GCS bucket\n",
        "def download_TFRecords(gcp_dir,\n",
        "                       local_dir,\n",
        "                       secrets_json,\n",
        "                       bucket_name):\n",
        "    print(\"downloading\")\n",
        "\n",
        "    # Clear\n",
        "    #shutil.rmtree(input_images, ignore_errors=True, onerror=None)\n",
        "    #makedirs()\n",
        "\n",
        "    if not RUN_IN_VM:\n",
        "      storage_client = storage.Client.from_service_account_json(secrets_json)\n",
        "    else:\n",
        "      storage_client = storage.Client()                    # Initialize the Google Cloud Storage client\n",
        "    bucket = storage_client.get_bucket(bucket_name)\n",
        "\n",
        "    blobs = bucket.list_blobs(prefix=gcp_dir + \"/\")\n",
        "\n",
        "    for blob in blobs:\n",
        "        if not blob.name.endswith(\"/\"):\n",
        "            filename = str(blob.name)\n",
        "            filename = filename.replace(gcp_dir,\"\")\n",
        "            destination_path = local_dir + filename\n",
        "            blob.download_to_filename(destination_path)\n",
        "\n",
        "    print(\"finished downloading\")"
      ],
      "metadata": {
        "id": "F_4YAvtCTWUO"
      },
      "execution_count": null,
      "outputs": []
    },
    {
      "cell_type": "code",
      "source": [
        "## Before downloading you must create destination directory to store the tf-records\n",
        "tfrecords_output_dir = \"tf-records\"\n",
        "if os.path.exists(tfrecords_output_dir):\n",
        "  shutil.rmtree(tfrecords_output_dir)\n",
        "tf.io.gfile.makedirs(tfrecords_output_dir)"
      ],
      "metadata": {
        "id": "oPvA0uiekz-S"
      },
      "execution_count": null,
      "outputs": []
    },
    {
      "cell_type": "code",
      "source": [
        "## Download TF records\n",
        "download_TFRecords(gcp_dir=gcp_dir,\n",
        "                   local_dir=local_dir,\n",
        "                   secrets_json=secrets_json,\n",
        "                   bucket_name=bucket_name)"
      ],
      "metadata": {
        "colab": {
          "base_uri": "https://localhost:8080/"
        },
        "id": "ebqfW_4PTaxI",
        "outputId": "0aa1cb75-6450-470d-ea2f-d656b884e477"
      },
      "execution_count": null,
      "outputs": [
        {
          "output_type": "stream",
          "name": "stdout",
          "text": [
            "downloading\n",
            "finished downloading\n"
          ]
        }
      ]
    },
    {
      "cell_type": "markdown",
      "source": [
        "#### **create datasets from TF Records (train_data, validation_data, test_data)**"
      ],
      "metadata": {
        "id": "uGUOY26biadX"
      }
    },
    {
      "cell_type": "code",
      "source": [
        "## prepare the train data\n",
        "\n",
        "# Defines which tfrecords to pull. Change to '/train*' to get all train tf-records\n",
        "prefix = '/train_0000.tfrecords'\n",
        "\n",
        "train_data = create_dataset(batch_size=batch_size,\n",
        "                   num_channels=img_channel,\n",
        "                   image_height=img_height,\n",
        "                   image_width=img_width,\n",
        "                   num_classes=num_classes,\n",
        "                   records_dir=records_dir,\n",
        "                   prefix=prefix)"
      ],
      "metadata": {
        "id": "Hf-OH5dHX6ZW"
      },
      "execution_count": null,
      "outputs": []
    },
    {
      "cell_type": "code",
      "source": [
        "## prepare the validation data\n",
        "\n",
        "# Defines which tfrecords to pull. Change prefix to '/val*' to get all val tf-records\n",
        "prefix = '/val_0000.tfrecords'\n",
        "\n",
        "validation_data = create_dataset(batch_size=batch_size,\n",
        "                   num_channels=img_channel,\n",
        "                   image_height=img_height,\n",
        "                   image_width=img_width,\n",
        "                   num_classes=num_classes,\n",
        "                   records_dir=records_dir,\n",
        "                   prefix=prefix)"
      ],
      "metadata": {
        "id": "t5k5LC-YX5-S"
      },
      "execution_count": null,
      "outputs": []
    },
    {
      "cell_type": "code",
      "source": [
        "\n",
        "## prepare the test data\n",
        "\n",
        "# Defines which tfrecords to pull. Change to '/test*' to get all test tf-records\n",
        "prefix = '/test_0000.tfrecords'\n",
        "\n",
        "test_data = create_dataset(batch_size=batch_size,\n",
        "                   num_channels=img_channel,\n",
        "                   image_height=img_height,\n",
        "                   image_width=img_width,\n",
        "                   num_classes=num_classes,\n",
        "                   records_dir=records_dir,\n",
        "                   prefix=prefix)"
      ],
      "metadata": {
        "id": "gBud2SBcX5if"
      },
      "execution_count": null,
      "outputs": []
    },
    {
      "cell_type": "code",
      "source": [
        "## sanity check\n",
        "print(\"===== sanity check (train_data, val_data, test_data) =====\")\n",
        "print(train_data)\n",
        "print(validation_data)\n",
        "print(test_data)"
      ],
      "metadata": {
        "colab": {
          "base_uri": "https://localhost:8080/"
        },
        "id": "epRg7Ct_jPQ1",
        "outputId": "5115a384-767b-40ac-c6b7-dc12b3ee3485"
      },
      "execution_count": null,
      "outputs": [
        {
          "output_type": "stream",
          "name": "stdout",
          "text": [
            "===== sanity check (train_data, val_data, test_data) =====\n",
            "<_PrefetchDataset element_spec=(TensorSpec(shape=(None, 224, 224, 3), dtype=tf.float32, name=None), TensorSpec(shape=(None, 2), dtype=tf.float32, name=None))>\n",
            "<_PrefetchDataset element_spec=(TensorSpec(shape=(None, 224, 224, 3), dtype=tf.float32, name=None), TensorSpec(shape=(None, 2), dtype=tf.float32, name=None))>\n",
            "<_PrefetchDataset element_spec=(TensorSpec(shape=(None, 224, 224, 3), dtype=tf.float32, name=None), TensorSpec(shape=(None, 2), dtype=tf.float32, name=None))>\n"
          ]
        }
      ]
    },
    {
      "cell_type": "markdown",
      "metadata": {
        "id": "t_GWCZ9k_LYi"
      },
      "source": [
        "## **<font color=\"#A41034\">Authenticate login to WandB</font>**"
      ]
    },
    {
      "cell_type": "code",
      "source": [
        "## to relogin as a different user, for example switching to team project authentication\n",
        "# !wandb login --relogin"
      ],
      "metadata": {
        "id": "FS8qL3PL0NPf"
      },
      "execution_count": null,
      "outputs": []
    },
    {
      "cell_type": "code",
      "source": [
        "## # Login to W&B account\n",
        "if RUN_IN_VM:\n",
        "  wandb.login(key=args.wandb_key)\n",
        "else:\n",
        "  wandb.login()"
      ],
      "metadata": {
        "id": "xK0X41T6mog9",
        "colab": {
          "base_uri": "https://localhost:8080/"
        },
        "outputId": "18ed4be1-3228-4641-905d-9f22032aa599"
      },
      "execution_count": null,
      "outputs": [
        {
          "output_type": "stream",
          "name": "stderr",
          "text": [
            "\u001b[34m\u001b[1mwandb\u001b[0m: \u001b[33mWARNING\u001b[0m Calling wandb.login() after wandb.init() has no effect.\n"
          ]
        }
      ]
    },
    {
      "cell_type": "markdown",
      "metadata": {
        "id": "TwZAIK3FX93s"
      },
      "source": [
        "## **<font color=\"#A41034\">Teacher Model (vgg16) with wandb callback and using TF data as input</font>**"
      ]
    },
    {
      "cell_type": "code",
      "source": [
        "## train & save weights into wandb.ai\n",
        "\n",
        "## transfer learning from keras VGG16 model weights\n",
        "\n",
        "# Free up memory\n",
        "K.clear_session()\n",
        "\n",
        "# Data\n",
        "# train_data, validation_data, test_data = get_dataset(image_width = img_width,\n",
        "#                                                      image_height = img_height,\n",
        "#                                                      num_channels = img_channel,\n",
        "#                                                      batch_size = batch_size)\n",
        "if USE_VGG16_AS_TEACHER:\n",
        "  # invoke VGG16\n",
        "  new_input = Input(shape=(img_height, img_width, img_channel))\n",
        "  base_model = VGG16(weights='imagenet', input_tensor=new_input, include_top=False)\n",
        "  base_model.summary()\n",
        "\n",
        "  # base layers + 3 FC layers\n",
        "  x = Flatten()(base_model.layers[-1].output)\n",
        "\n",
        "  # Add a fully connected layer with 1024 units and ReLU activation\n",
        "  x = Dense(units=1024, activation='relu')(x)\n",
        "  x = Dense(units=1024, activation='relu')(x)\n",
        "  x = Dense(units=1024, activation='relu')(x)\n",
        "\n",
        "  # Add a final output layer with the desired number of classes and sigmoid activation\n",
        "  output = Dense(units=1, activation='sigmoid')(x)\n",
        "\n",
        "  # Create the final model by combining the VGG16 base model with the newly added layers\n",
        "  teacher_model = Model(inputs=base_model.input, outputs=output, name=model_name+'_'+str(train_base))\n",
        "\n",
        "  # fix all weights in base_model\n",
        "  for layer in base_model.layers:\n",
        "      layer.trainable = False\n",
        "\n",
        "  # Compile the model with appropriate loss, optimizer, and metrics\n",
        "  teacher_model.compile(optimizer = Adam(),\n",
        "                      loss = 'binary_crossentropy',\n",
        "                      metrics = ['acc'])\n",
        "\n",
        "  # Initialize a W&B run\n",
        "  wandb.init(\n",
        "      project = 'rehab-ai-main',\n",
        "      config = {\n",
        "        \"learning_rate\": learning_rate,\n",
        "        \"epochs\": epochs,\n",
        "        \"batch_size\": batch_size,\n",
        "        \"model_name\": teacher_model.name\n",
        "      },\n",
        "      name = teacher_model.name\n",
        "  )\n",
        "\n",
        "  # Train the model on the training data and validate on the validation data\n",
        "  start_time = time.time()\n",
        "  history = teacher_model.fit(train_data,\n",
        "                            validation_data=validation_data,\n",
        "                            callbacks=[WandbCallback()],\n",
        "                            verbose=1,\n",
        "                            epochs=epochs)\n",
        "\n",
        "  execution_time = (time.time() - start_time)/60.0\n",
        "  print(\"Training execution time (mins)\",execution_time)\n",
        "\n",
        "  # Update W&B\n",
        "  wandb.config.update({\"execution_time\": execution_time})\n",
        "\n",
        "  # Close the W&B run\n",
        "  wandb.run.finish()"
      ],
      "metadata": {
        "colab": {
          "base_uri": "https://localhost:8080/",
          "height": 1000,
          "referenced_widgets": [
            "ef435261468f4bb691dc73ac04802ed7",
            "099a94cdd0da416bbacfe7b95cc54ccd",
            "2e8813c4365449babaf0aec3593f01ae",
            "16fd6684c37f4621a0247ab1c13cc021",
            "d8c502791c9648e5b89b978e1d434447",
            "ff23bbfcad424329a0e199ec4476b368",
            "fe16db98b12e4782aa1386bc66d8f8ec",
            "d14e89001bae469c93eea87269570fb7"
          ]
        },
        "id": "w_8tKrGfmoYB",
        "outputId": "2c37c31f-7e83-4260-a8c5-850bd54b91b2"
      },
      "execution_count": null,
      "outputs": [
        {
          "output_type": "stream",
          "name": "stdout",
          "text": [
            "Model: \"vgg16\"\n",
            "_________________________________________________________________\n",
            " Layer (type)                Output Shape              Param #   \n",
            "=================================================================\n",
            " input_2 (InputLayer)        [(None, 224, 224, 3)]     0         \n",
            "                                                                 \n",
            " block1_conv1 (Conv2D)       (None, 224, 224, 64)      1792      \n",
            "                                                                 \n",
            " block1_conv2 (Conv2D)       (None, 224, 224, 64)      36928     \n",
            "                                                                 \n",
            " block1_pool (MaxPooling2D)  (None, 112, 112, 64)      0         \n",
            "                                                                 \n",
            " block2_conv1 (Conv2D)       (None, 112, 112, 128)     73856     \n",
            "                                                                 \n",
            " block2_conv2 (Conv2D)       (None, 112, 112, 128)     147584    \n",
            "                                                                 \n",
            " block2_pool (MaxPooling2D)  (None, 56, 56, 128)       0         \n",
            "                                                                 \n",
            " block3_conv1 (Conv2D)       (None, 56, 56, 256)       295168    \n",
            "                                                                 \n",
            " block3_conv2 (Conv2D)       (None, 56, 56, 256)       590080    \n",
            "                                                                 \n",
            " block3_conv3 (Conv2D)       (None, 56, 56, 256)       590080    \n",
            "                                                                 \n",
            " block3_pool (MaxPooling2D)  (None, 28, 28, 256)       0         \n",
            "                                                                 \n",
            " block4_conv1 (Conv2D)       (None, 28, 28, 512)       1180160   \n",
            "                                                                 \n",
            " block4_conv2 (Conv2D)       (None, 28, 28, 512)       2359808   \n",
            "                                                                 \n",
            " block4_conv3 (Conv2D)       (None, 28, 28, 512)       2359808   \n",
            "                                                                 \n",
            " block4_pool (MaxPooling2D)  (None, 14, 14, 512)       0         \n",
            "                                                                 \n",
            " block5_conv1 (Conv2D)       (None, 14, 14, 512)       2359808   \n",
            "                                                                 \n",
            " block5_conv2 (Conv2D)       (None, 14, 14, 512)       2359808   \n",
            "                                                                 \n",
            " block5_conv3 (Conv2D)       (None, 14, 14, 512)       2359808   \n",
            "                                                                 \n",
            " block5_pool (MaxPooling2D)  (None, 7, 7, 512)         0         \n",
            "                                                                 \n",
            "=================================================================\n",
            "Total params: 14,714,688\n",
            "Trainable params: 14,714,688\n",
            "Non-trainable params: 0\n",
            "_________________________________________________________________\n"
          ]
        },
        {
          "output_type": "display_data",
          "data": {
            "text/plain": [
              "<IPython.core.display.HTML object>"
            ],
            "text/html": [
              "Finishing last run (ID:u6d5tjmq) before initializing another..."
            ]
          },
          "metadata": {}
        },
        {
          "output_type": "display_data",
          "data": {
            "text/plain": [
              "<IPython.core.display.HTML object>"
            ],
            "text/html": [
              "Waiting for W&B process to finish... <strong style=\"color:green\">(success).</strong>"
            ]
          },
          "metadata": {}
        },
        {
          "output_type": "display_data",
          "data": {
            "text/plain": [
              "<IPython.core.display.HTML object>"
            ],
            "text/html": [
              " View run <strong style=\"color:#cdcd00\">vgg16_train_base_True</strong> at: <a href='https://wandb.ai/rehab-ai/rehab-ai-main/runs/u6d5tjmq' target=\"_blank\">https://wandb.ai/rehab-ai/rehab-ai-main/runs/u6d5tjmq</a><br/>Synced 5 W&B file(s), 0 media file(s), 0 artifact file(s) and 0 other file(s)"
            ]
          },
          "metadata": {}
        },
        {
          "output_type": "display_data",
          "data": {
            "text/plain": [
              "<IPython.core.display.HTML object>"
            ],
            "text/html": [
              "Find logs at: <code>./wandb/run-20231025_212005-u6d5tjmq/logs</code>"
            ]
          },
          "metadata": {}
        },
        {
          "output_type": "display_data",
          "data": {
            "text/plain": [
              "<IPython.core.display.HTML object>"
            ],
            "text/html": [
              "Successfully finished last run (ID:u6d5tjmq). Initializing new run:<br/>"
            ]
          },
          "metadata": {}
        },
        {
          "output_type": "display_data",
          "data": {
            "text/plain": [
              "<IPython.core.display.HTML object>"
            ],
            "text/html": [
              "Tracking run with wandb version 0.15.12"
            ]
          },
          "metadata": {}
        },
        {
          "output_type": "display_data",
          "data": {
            "text/plain": [
              "<IPython.core.display.HTML object>"
            ],
            "text/html": [
              "Run data is saved locally in <code>/content/wandb/run-20231025_212846-osel61g2</code>"
            ]
          },
          "metadata": {}
        },
        {
          "output_type": "display_data",
          "data": {
            "text/plain": [
              "<IPython.core.display.HTML object>"
            ],
            "text/html": [
              "Syncing run <strong><a href='https://wandb.ai/rehab-ai/rehab-ai-main/runs/osel61g2' target=\"_blank\">vgg16_train_base_True</a></strong> to <a href='https://wandb.ai/rehab-ai/rehab-ai-main' target=\"_blank\">Weights & Biases</a> (<a href='https://wandb.me/run' target=\"_blank\">docs</a>)<br/>"
            ]
          },
          "metadata": {}
        },
        {
          "output_type": "display_data",
          "data": {
            "text/plain": [
              "<IPython.core.display.HTML object>"
            ],
            "text/html": [
              " View project at <a href='https://wandb.ai/rehab-ai/rehab-ai-main' target=\"_blank\">https://wandb.ai/rehab-ai/rehab-ai-main</a>"
            ]
          },
          "metadata": {}
        },
        {
          "output_type": "display_data",
          "data": {
            "text/plain": [
              "<IPython.core.display.HTML object>"
            ],
            "text/html": [
              " View run at <a href='https://wandb.ai/rehab-ai/rehab-ai-main/runs/osel61g2' target=\"_blank\">https://wandb.ai/rehab-ai/rehab-ai-main/runs/osel61g2</a>"
            ]
          },
          "metadata": {}
        },
        {
          "output_type": "stream",
          "name": "stdout",
          "text": [
            "Epoch 1/5\n",
            "     90/Unknown - 102s 1s/step - loss: 0.8531 - acc: 0.6128"
          ]
        },
        {
          "output_type": "stream",
          "name": "stderr",
          "text": [
            "WARNING:absl:Found untraced functions such as _jit_compiled_convolution_op, _jit_compiled_convolution_op, _jit_compiled_convolution_op, _jit_compiled_convolution_op, _jit_compiled_convolution_op while saving (showing 5 of 14). These functions will not be directly callable after loading.\n",
            "\u001b[34m\u001b[1mwandb\u001b[0m: Adding directory to artifact (/content/wandb/run-20231025_212846-osel61g2/files/model-best)... Done. 2.0s\n"
          ]
        },
        {
          "output_type": "stream",
          "name": "stdout",
          "text": [
            "\b\b\b\b\b\b\b\b\b\b\b\b\b\b\b\b\b\b\b\b\b\b\b\b\b\b\b\b\b\b\b\b\b\b\b\b\b\b\b\b\b\b\b\b\b\b\b\b\b\b\b\b\b\b\b\b\b\b\b\r90/90 [==============================] - 167s 2s/step - loss: 0.8531 - acc: 0.6128 - val_loss: 0.5635 - val_acc: 0.6996\n",
            "Epoch 2/5\n",
            "90/90 [==============================] - 158s 2s/step - loss: 0.5213 - acc: 0.7333 - val_loss: 0.5968 - val_acc: 0.6852\n",
            "Epoch 3/5\n",
            "90/90 [==============================] - 168s 2s/step - loss: 0.4317 - acc: 0.7969 - val_loss: 0.6020 - val_acc: 0.7246\n",
            "Epoch 4/5\n",
            "90/90 [==============================] - 166s 2s/step - loss: 0.3414 - acc: 0.8490 - val_loss: 1.0179 - val_acc: 0.7135\n",
            "Epoch 5/5\n",
            "90/90 [==============================] - 158s 2s/step - loss: 0.3376 - acc: 0.8497 - val_loss: 0.6194 - val_acc: 0.7246\n",
            "Training execution time (mins) 13.614960463841756\n"
          ]
        },
        {
          "output_type": "display_data",
          "data": {
            "text/plain": [
              "<IPython.core.display.HTML object>"
            ],
            "text/html": [
              "Waiting for W&B process to finish... <strong style=\"color:green\">(success).</strong>"
            ]
          },
          "metadata": {}
        },
        {
          "output_type": "display_data",
          "data": {
            "text/plain": [
              "VBox(children=(Label(value='748.931 MB of 748.931 MB uploaded (0.000 MB deduped)\\r'), FloatProgress(value=1.0,…"
            ],
            "application/vnd.jupyter.widget-view+json": {
              "version_major": 2,
              "version_minor": 0,
              "model_id": "ef435261468f4bb691dc73ac04802ed7"
            }
          },
          "metadata": {}
        },
        {
          "output_type": "display_data",
          "data": {
            "text/plain": [
              "<IPython.core.display.HTML object>"
            ],
            "text/html": [
              "<style>\n",
              "    table.wandb td:nth-child(1) { padding: 0 10px; text-align: left ; width: auto;} td:nth-child(2) {text-align: left ; width: 100%}\n",
              "    .wandb-row { display: flex; flex-direction: row; flex-wrap: wrap; justify-content: flex-start; width: 100% }\n",
              "    .wandb-col { display: flex; flex-direction: column; flex-basis: 100%; flex: 1; padding: 10px; }\n",
              "    </style>\n",
              "<div class=\"wandb-row\"><div class=\"wandb-col\"><h3>Run history:</h3><br/><table class=\"wandb\"><tr><td>acc</td><td>▁▅▆██</td></tr><tr><td>epoch</td><td>▁▃▅▆█</td></tr><tr><td>loss</td><td>█▃▂▁▁</td></tr><tr><td>val_acc</td><td>▄▁█▆█</td></tr><tr><td>val_loss</td><td>▁▂▂█▂</td></tr></table><br/></div><div class=\"wandb-col\"><h3>Run summary:</h3><br/><table class=\"wandb\"><tr><td>acc</td><td>0.84965</td></tr><tr><td>best_epoch</td><td>0</td></tr><tr><td>best_val_loss</td><td>0.56352</td></tr><tr><td>epoch</td><td>4</td></tr><tr><td>loss</td><td>0.33765</td></tr><tr><td>val_acc</td><td>0.7246</td></tr><tr><td>val_loss</td><td>0.61937</td></tr></table><br/></div></div>"
            ]
          },
          "metadata": {}
        },
        {
          "output_type": "display_data",
          "data": {
            "text/plain": [
              "<IPython.core.display.HTML object>"
            ],
            "text/html": [
              " View run <strong style=\"color:#cdcd00\">vgg16_train_base_True</strong> at: <a href='https://wandb.ai/rehab-ai/rehab-ai-main/runs/osel61g2' target=\"_blank\">https://wandb.ai/rehab-ai/rehab-ai-main/runs/osel61g2</a><br/>Synced 5 W&B file(s), 1 media file(s), 5 artifact file(s) and 1 other file(s)"
            ]
          },
          "metadata": {}
        },
        {
          "output_type": "display_data",
          "data": {
            "text/plain": [
              "<IPython.core.display.HTML object>"
            ],
            "text/html": [
              "Find logs at: <code>./wandb/run-20231025_212846-osel61g2/logs</code>"
            ]
          },
          "metadata": {}
        }
      ]
    },
    {
      "cell_type": "code",
      "execution_count": null,
      "metadata": {
        "colab": {
          "base_uri": "https://localhost:8080/",
          "height": 354
        },
        "outputId": "38f61c89-1804-4dcd-cde3-a5c03444f962",
        "id": "PURWOQoqWT8N"
      },
      "outputs": [
        {
          "output_type": "display_data",
          "data": {
            "text/plain": [
              "<Figure size 1500x500 with 2 Axes>"
            ],
            "image/png": "[encoded data removed]"
          },
          "metadata": {}
        }
      ],
      "source": [
        "# ploting results loss and accuracy\n",
        "fig, axs = plt.subplots(1, 2, figsize=(15, 5))\n",
        "# Plotting accuracy\n",
        "axs[0].plot(history.history['acc'])\n",
        "axs[0].plot(history.history['val_acc'])\n",
        "axs[0].set_title('Model accuracy')\n",
        "axs[0].set_ylabel('Accuracy')\n",
        "axs[0].set_xlabel('Epoch')\n",
        "axs[0].legend(['Train', 'Validation'], loc='lower right')\n",
        "# Plot loss\n",
        "axs[1].plot(history.history['loss'])\n",
        "axs[1].plot(history.history['val_loss'])\n",
        "axs[1].set_title('Model loss')\n",
        "axs[1].set_ylabel('Loss')\n",
        "axs[1].set_xlabel('Epoch')\n",
        "axs[1].legend(['Train', 'Validation'], loc='upper right')\n",
        "plt.show()"
      ]
    },
    {
      "cell_type": "markdown",
      "metadata": {
        "id": "H-9luXrnPq7b"
      },
      "source": [
        "## **<font color=\"#A41034\">Teacher Model (mobilenet_v2) from tfhub.</font>**"
      ]
    },
    {
      "cell_type": "markdown",
      "source": [
        "#### **Build Teacher Model**"
      ],
      "metadata": {
        "id": "ElOctrWQQ1uq"
      }
    },
    {
      "cell_type": "code",
      "metadata": {
        "id": "lftWjn_4mYdx"
      },
      "source": [
        "if USE_MOBILENET_AS_TEACHER:\n",
        "\n",
        "  def build_teacher_model(image_height, image_width, num_channels, num_classes):\n",
        "\n",
        "    # Model input\n",
        "    input_shape = [image_height, image_width, num_channels] # height, width, channels\n",
        "\n",
        "    # Handle to pretrained model (Use a different model here)\n",
        "    handle = \"https://tfhub.dev/google/imagenet/mobilenet_v2_100_224/feature_vector/5\"\n",
        "\n",
        "    # Regularize using L1\n",
        "    kernel_weight = 0.02\n",
        "    bias_weight = 0.02\n",
        "\n",
        "    model = Sequential([\n",
        "          keras.layers.InputLayer(input_shape=input_shape),\n",
        "                                  hub.KerasLayer(handle, trainable=False),\n",
        "          keras.layers.Dense(units=64, activation='relu',\n",
        "                            kernel_regularizer=keras.regularizers.l1(kernel_weight),\n",
        "                            bias_regularizer=keras.regularizers.l1(bias_weight)\n",
        "                            ),\n",
        "          keras.layers.Dense(units=num_classes-1,\n",
        "                            kernel_regularizer=keras.regularizers.l1(kernel_weight),\n",
        "                            bias_regularizer=keras.regularizers.l1(bias_weight)),\n",
        "    ],name='teacher_model')\n",
        "\n",
        "    return model"
      ],
      "execution_count": null,
      "outputs": []
    },
    {
      "cell_type": "markdown",
      "source": [
        "#### **Train Teacher**"
      ],
      "metadata": {
        "id": "6v1J1J6qRGSN"
      }
    },
    {
      "cell_type": "code",
      "metadata": {
        "id": "uHAXY_VwmjAQ"
      },
      "source": [
        "############################\n",
        "# Training Params\n",
        "############################\n",
        "\n",
        "if USE_MOBILENET_AS_TEACHER:\n",
        "  learning_rate = 0.001\n",
        "  initial_epoch = 0\n",
        "  epochs = 500\n",
        "\n",
        "  # Load pre trained model during demos\n",
        "  LOAD_PREV_TRAINED = False\n",
        "\n",
        "  # Free up memory\n",
        "  K.clear_session()\n",
        "\n",
        "  # Optimizer\n",
        "  optimizer = keras.optimizers.SGD(learning_rate=learning_rate)\n",
        "  # Loss\n",
        "  #loss = keras.losses.SparseCategoricalCrossentropy(from_logits=True)\n",
        "  loss = keras.losses.BinaryCrossentropy(from_logits=True)\n",
        "\n",
        "  # Build or Load Model\n",
        "  if not LOAD_PREV_TRAINED:\n",
        "    # Build the teacher model\n",
        "    teacher_model = build_teacher_model(img_height, img_width, num_channels, num_classes)\n",
        "    print(teacher_model.summary())\n",
        "\n",
        "    # Compile\n",
        "    teacher_model.compile(optimizer=optimizer,\n",
        "                        loss=loss,\n",
        "                        metrics=[keras.metrics.BinaryAccuracy()])\n",
        "                        # metrics=[keras.metrics.SparseCategoricalAccuracy()])\n",
        "\n",
        "  else:\n",
        "    # Load model\n",
        "    teacher_model = keras.models.load_model(\"distil_models/teacher_model.hdf5\", custom_objects={'KerasLayer':hub.KerasLayer})\n",
        "    print(teacher_model.summary())\n",
        "\n",
        "\n",
        "    with open(\"distil_models/teacher_model_train_history.json\") as json_file:\n",
        "      prev_training_history = json.load(json_file)\n",
        "    with open(\"distil_models/teacher_model_model_metrics.json\") as json_file:\n",
        "      model_metrics = json.load(json_file)\n",
        "\n",
        "    epochs = len(prev_training_history[\"loss\"])\n",
        "    initial_epoch=epochs\n",
        "    epochs=epochs+3 # Continue training for a few more epochs\n",
        "\n",
        "\n",
        "  # Train model\n",
        "  start_time = time.time()\n",
        "  training_results = teacher_model.fit(\n",
        "          train_data,\n",
        "          validation_data=validation_data,\n",
        "          epochs=epochs,\n",
        "          initial_epoch=initial_epoch,\n",
        "          verbose=1)\n",
        "  execution_time = (time.time() - start_time)/60.0\n",
        "  print(\"Training execution time (mins)\",execution_time)\n",
        "\n",
        "  # Get model training history\n",
        "  training_history = training_results.history\n",
        "\n",
        "  if LOAD_PREV_TRAINED:\n",
        "    # Append previous training history & time\n",
        "    training_history = append_training_history(training_results.history,\n",
        "                                              prev_training_history,\n",
        "                                              metrics=[\"loss\",\"val_loss\",\"binary_accuracy\",\"val_binary_accuracy\"])\n",
        "    execution_time = model_metrics[\"execution_time\"] + execution_time\n",
        "\n",
        "  # Evaluate model\n",
        "  evaluate_model(teacher_model,validation_data, training_history,execution_time,\n",
        "                      learning_rate, batch_size, epochs, optimizer,\n",
        "                      save=True,\n",
        "                      loss_metrics=[\"loss\",\"val_loss\"],\n",
        "                      acc_metrics=[\"binary_accuracy\",\"val_binary_accuracy\"])\n",
        "                      #acc_metrics=[\"sparse_categorical_accuracy\",\"val_sparse_categorical_accuracy\"])"
      ],
      "execution_count": null,
      "outputs": []
    },
    {
      "cell_type": "markdown",
      "metadata": {
        "id": "xWWwU8Kq6LRd"
      },
      "source": [
        "## **<font color=\"#A41034\">Build Student Model</font>**"
      ]
    },
    {
      "cell_type": "markdown",
      "metadata": {
        "id": "jFcndczk6VCq"
      },
      "source": [
        "#### **Student Model**\n",
        "* 2 conv layers with max pooling and 1 dense layer"
      ]
    },
    {
      "cell_type": "code",
      "source": [
        "def build_student_model(image_height, image_width, num_channels, num_classes, model_name='student'):\n",
        "  # Model input\n",
        "  input_shape = [image_height, image_width, num_channels]  # height, width, channels\n",
        "\n",
        "  model = Sequential(\n",
        "      [\n",
        "        keras.Input(shape=input_shape),\n",
        "        keras.layers.Conv2D(filters=8, kernel_size=(3, 3), strides=(2, 2), padding=\"same\",\n",
        "                            kernel_initializer=keras.initializers.GlorotUniform(seed=1212)),\n",
        "        keras.layers.LeakyReLU(alpha=0.2),\n",
        "        keras.layers.MaxPooling2D(pool_size=(2, 2), strides=(2, 2), padding=\"same\"),\n",
        "        keras.layers.Conv2D(filters=16, kernel_size=(3, 3), strides=(2, 2), padding=\"same\",\n",
        "                            kernel_initializer=keras.initializers.GlorotUniform(seed=2121)),\n",
        "        keras.layers.LeakyReLU(alpha=0.2),\n",
        "        keras.layers.MaxPooling2D(pool_size=(2, 2), strides=(2, 2), padding=\"same\"),\n",
        "        keras.layers.Flatten(),\n",
        "        # keras.layers.Dense(units=32, kernel_initializer=keras.initializers.GlorotUniform(seed=2323)),\n",
        "        #keras.layers.Dense(units=num_classes, kernel_initializer=keras.initializers.GlorotUniform(seed=3434))\n",
        "        keras.layers.Dense(units=num_classes-1, kernel_initializer=keras.initializers.GlorotUniform(seed=3434))\n",
        "      ],\n",
        "      name=model_name)\n",
        "\n",
        "  return model"
      ],
      "metadata": {
        "id": "ZUIojEAG8ZUf"
      },
      "execution_count": null,
      "outputs": []
    },
    {
      "cell_type": "markdown",
      "metadata": {
        "id": "fvn5vtWu6Vrn"
      },
      "source": [
        "#### **Train the Student model**\n",
        "* 2 conv layers with max pooling and 1 dense layer\n",
        "* for comparison purpose (pre-distillation)"
      ]
    },
    {
      "cell_type": "code",
      "source": [
        "############################\n",
        "# Training Params\n",
        "############################\n",
        "learning_rate = 0.001\n",
        "epochs = 5\n",
        "\n",
        "# Free up memory\n",
        "K.clear_session()\n",
        "\n",
        "# Build the model\n",
        "student_model_scratch = build_student_model(img_height, img_width, img_channel, 2, model_name='student_scratch')\n",
        "print(student_model_scratch.summary())\n",
        "\n",
        "# Optimizer\n",
        "optimizer = keras.optimizers.Adam(learning_rate=learning_rate)\n",
        "# Loss\n",
        "loss = keras.losses.BinaryCrossentropy(from_logits=True)\n",
        "\n",
        "# Compile\n",
        "student_model_scratch.compile(optimizer=optimizer,\n",
        "                      loss=loss,\n",
        "                      metrics=[keras.metrics.BinaryAccuracy()])\n",
        "\n",
        "# Train teacher model\n",
        "start_time = time.time()\n",
        "training_results = student_model_scratch.fit(\n",
        "        train_data,\n",
        "        validation_data=validation_data,\n",
        "        epochs=epochs,\n",
        "        verbose=1)\n",
        "execution_time = (time.time() - start_time)/60.0\n",
        "print(\"Training execution time (mins)\",execution_time)\n",
        "\n",
        "# Get model training history\n",
        "training_history = training_results.history\n",
        "\n",
        "# Evaluate model\n",
        "evaluate_model(student_model_scratch,validation_data, training_history,execution_time,\n",
        "                    learning_rate, batch_size, epochs, optimizer,\n",
        "                    save=True,\n",
        "                    loss_metrics=[\"loss\",\"val_loss\"],\n",
        "                    acc_metrics=[\"binary_accuracy\",\"val_binary_accuracy\"])\n",
        "\n"
      ],
      "metadata": {
        "colab": {
          "base_uri": "https://localhost:8080/",
          "height": 1000
        },
        "id": "NXb0vubl8cVq",
        "outputId": "eb8e09fa-f64d-47da-ed99-85781a1a0dfa"
      },
      "execution_count": null,
      "outputs": [
        {
          "output_type": "stream",
          "name": "stdout",
          "text": [
            "Model: \"student_scratch\"\n",
            "_________________________________________________________________\n",
            " Layer (type)                Output Shape              Param #   \n",
            "=================================================================\n",
            " conv2d (Conv2D)             (None, 112, 112, 8)       224       \n",
            "                                                                 \n",
            " leaky_re_lu (LeakyReLU)     (None, 112, 112, 8)       0         \n",
            "                                                                 \n",
            " max_pooling2d (MaxPooling2D  (None, 56, 56, 8)        0         \n",
            " )                                                               \n",
            "                                                                 \n",
            " conv2d_1 (Conv2D)           (None, 28, 28, 16)        1168      \n",
            "                                                                 \n",
            " leaky_re_lu_1 (LeakyReLU)   (None, 28, 28, 16)        0         \n",
            "                                                                 \n",
            " max_pooling2d_1 (MaxPooling  (None, 14, 14, 16)       0         \n",
            " 2D)                                                             \n",
            "                                                                 \n",
            " flatten (Flatten)           (None, 3136)              0         \n",
            "                                                                 \n",
            " dense (Dense)               (None, 1)                 3137      \n",
            "                                                                 \n",
            "=================================================================\n",
            "Total params: 4,529\n",
            "Trainable params: 4,529\n",
            "Non-trainable params: 0\n",
            "_________________________________________________________________\n",
            "None\n",
            "Epoch 1/5\n",
            "90/90 [==============================] - 3s 25ms/step - loss: 0.6360 - binary_accuracy: 0.6177 - val_loss: 0.6042 - val_binary_accuracy: 0.6591\n",
            "Epoch 2/5\n",
            "90/90 [==============================] - 2s 23ms/step - loss: 0.5877 - binary_accuracy: 0.6507 - val_loss: 0.5880 - val_binary_accuracy: 0.6652\n",
            "Epoch 3/5\n",
            "90/90 [==============================] - 2s 24ms/step - loss: 0.5721 - binary_accuracy: 0.6642 - val_loss: 0.5822 - val_binary_accuracy: 0.6824\n",
            "Epoch 4/5\n",
            "90/90 [==============================] - 2s 23ms/step - loss: 0.5623 - binary_accuracy: 0.6740 - val_loss: 0.5796 - val_binary_accuracy: 0.6785\n",
            "Epoch 5/5\n",
            "90/90 [==============================] - 2s 23ms/step - loss: 0.5546 - binary_accuracy: 0.6812 - val_loss: 0.5775 - val_binary_accuracy: 0.6846\n",
            "Training execution time (mins) 0.1944119970003764\n"
          ]
        },
        {
          "output_type": "display_data",
          "data": {
            "text/plain": [
              "<Figure size 1500x500 with 2 Axes>"
            ],
            "image/png": "[encoded data removed]"
          },
          "metadata": {}
        },
        {
          "output_type": "stream",
          "name": "stdout",
          "text": [
            "57/57 [==============================] - 1s 9ms/step - loss: 0.5775 - binary_accuracy: 0.6846\n",
            "{'loss': 0.5775446891784668, 'binary_accuracy': 0.684619665145874}\n"
          ]
        },
        {
          "output_type": "execute_result",
          "data": {
            "text/plain": [
              "[0.5775446891784668, 0.684619665145874]"
            ]
          },
          "metadata": {},
          "execution_count": 58
        }
      ]
    },
    {
      "cell_type": "markdown",
      "metadata": {
        "id": "lChVrh946chD"
      },
      "source": [
        "## **<font color=\"#A41034\">Build Distiller</font>**"
      ]
    },
    {
      "cell_type": "markdown",
      "metadata": {
        "id": "ZM3pxjZh6chY"
      },
      "source": [
        "#### **Class definition**\n",
        "**Distiller(Model)**\n",
        "* **attribute:** Lambda, temperature\n",
        "* **method:** compile(), train_step(), test_step()"
      ]
    },
    {
      "cell_type": "code",
      "source": [
        "class Distiller(Model):\n",
        "    def __init__(self, teacher, student):\n",
        "        super(Distiller, self).__init__()\n",
        "        self.teacher = teacher\n",
        "        self.student = student\n",
        "\n",
        "    def compile(self, optimizer, metrics, student_loss_fn, distillation_loss_fn, Lambda = 0.1, temperature=3):\n",
        "      \"\"\"\n",
        "      optimizer: Keras optimizer for the student weights\n",
        "      metrics: Keras metrics for evaluation\n",
        "      student_loss_fn: Loss function of difference between student predictions and ground-truth\n",
        "      distillation_loss_fn: Loss function of difference between soft student predictions and soft teacher predictions\n",
        "      lambda: weight to student_loss_fn and 1-alpha to distillation_loss_fn\n",
        "      temperature: Temperature for softening probability distributions. Larger temperature gives softer distributions.\n",
        "      \"\"\"\n",
        "      super(Distiller, self).compile(optimizer=optimizer, metrics=metrics)\n",
        "      self.student_loss_fn = student_loss_fn\n",
        "      self.distillation_loss_fn = distillation_loss_fn\n",
        "\n",
        "      #hyper-parameters\n",
        "      self.Lambda = Lambda\n",
        "      self.temperature = temperature\n",
        "\n",
        "    def train_step(self, data):\n",
        "        # Unpack data\n",
        "        x, y = data\n",
        "\n",
        "        # Forward pass of teacher (professor)\n",
        "        teacher_predictions = self.teacher(x, training=False)\n",
        "\n",
        "        with tf.GradientTape() as tape:\n",
        "            # Forward pass of student\n",
        "            student_predictions = self.student(x, training=True)\n",
        "\n",
        "            # Compute losses\n",
        "            student_loss = self.student_loss_fn(y, student_predictions)\n",
        "            distillation_loss = self.distillation_loss_fn(\n",
        "                tf.nn.softmax(teacher_predictions / self.temperature, axis=1),\n",
        "                tf.nn.softmax(student_predictions / self.temperature, axis=1),\n",
        "            )\n",
        "            loss = self.Lambda * student_loss + (1 - self.Lambda) * distillation_loss\n",
        "\n",
        "        # Compute gradients\n",
        "        trainable_vars = self.student.trainable_variables\n",
        "        gradients = tape.gradient(loss, trainable_vars)\n",
        "\n",
        "        # Update weights\n",
        "        self.optimizer.apply_gradients(zip(gradients, trainable_vars))\n",
        "\n",
        "        # Update the metrics configured in `compile()`.\n",
        "        self.compiled_metrics.update_state(y, student_predictions)\n",
        "\n",
        "        # Return a dict of performance\n",
        "        results = {m.name: m.result() for m in self.metrics}\n",
        "        results.update(\n",
        "            {\"student_loss\": student_loss, \"distillation_loss\": distillation_loss}\n",
        "        )\n",
        "        return results\n",
        "\n",
        "    def test_step(self, data):\n",
        "        # Unpack the data\n",
        "        x, y = data\n",
        "\n",
        "        # Compute predictions\n",
        "        y_prediction = self.student(x, training=False)\n",
        "\n",
        "        # Calculate the loss\n",
        "        student_loss = self.student_loss_fn(y, y_prediction)\n",
        "\n",
        "        # Update the metrics.\n",
        "        self.compiled_metrics.update_state(y, y_prediction)\n",
        "\n",
        "        # Return a dict of performance\n",
        "        results = {m.name: m.result() for m in self.metrics}\n",
        "        results.update({\"student_loss\": student_loss})\n",
        "        return results"
      ],
      "metadata": {
        "id": "c1HjSP0i9Ah3"
      },
      "execution_count": null,
      "outputs": []
    },
    {
      "cell_type": "markdown",
      "metadata": {
        "id": "9ReoXeb36chY"
      },
      "source": [
        "#### **Knowlege distillation - plain (from teacher to student)**\n",
        "* matching teacher output (prob) to student output (prob)"
      ]
    },
    {
      "cell_type": "code",
      "source": [
        "############################\n",
        "# Training Params\n",
        "############################\n",
        "learning_rate = 0.001\n",
        "epochs = 35\n",
        "Lambda = 0.75\n",
        "#temperature= 12\n",
        "temperature= 20\n",
        "\n",
        "# Free up memory\n",
        "K.clear_session()\n",
        "\n",
        "# Build Student model\n",
        "student_model = build_student_model(img_height, img_width, img_channel, 2, model_name='student_distill')\n",
        "print(student_model.summary())\n",
        "\n",
        "# Build the distiller model\n",
        "distiller_model = Distiller(teacher=teacher_model, student=student_model)\n",
        "\n",
        "# Optimizer\n",
        "optimizer = keras.optimizers.Adam(learning_rate=learning_rate)\n",
        "# Loss\n",
        "student_loss = keras.losses.BinaryCrossentropy(from_logits=True)\n",
        "\n",
        "#distillation_loss = keras.losses.KLDivergence()\n",
        "distillation_loss = keras.losses.BinaryCrossentropy(from_logits=False)\n",
        "\n",
        "# Compile\n",
        "distiller_model.compile(\n",
        "    optimizer=optimizer,\n",
        "    student_loss_fn=student_loss,\n",
        "    distillation_loss_fn=distillation_loss,\n",
        "    metrics=[keras.metrics.BinaryAccuracy()],\n",
        "    Lambda=Lambda,\n",
        "    temperature=temperature\n",
        ")\n",
        "\n",
        "# Distill teacher to student\n",
        "start_time = time.time()\n",
        "training_results = distiller_model.fit(\n",
        "        train_data,\n",
        "        validation_data=validation_data,\n",
        "        epochs=epochs,\n",
        "        verbose=1)\n",
        "execution_time = (time.time() - start_time)/60.0\n",
        "print(\"Training execution time (mins)\",execution_time)\n",
        "\n",
        "# Get model training history\n",
        "training_history = training_results.history\n",
        "\n",
        "# Evaluate model\n",
        "evaluation_results = evaluate_model(distiller_model,validation_data,\n",
        "               training_history,execution_time,learning_rate, batch_size, epochs, optimizer,\n",
        "               save=False,\n",
        "               loss_metrics=[\"student_loss\",\"distillation_loss\",\"val_student_loss\"],\n",
        "               acc_metrics=[\"binary_accuracy\",\"val_binary_accuracy\"])\n",
        "\n",
        "# Save student model\n",
        "\n",
        "\n",
        "save_model(student_model,training_history,execution_time,learning_rate, epochs, optimizer, evaluation_results)"
      ],
      "metadata": {
        "colab": {
          "base_uri": "https://localhost:8080/",
          "height": 1000
        },
        "id": "NoIUhGac-Zpa",
        "outputId": "c7c50703-a16d-4903-bb00-b739d680a976"
      },
      "execution_count": null,
      "outputs": [
        {
          "output_type": "stream",
          "name": "stdout",
          "text": [
            "Model: \"student_distill\"\n",
            "_________________________________________________________________\n",
            " Layer (type)                Output Shape              Param #   \n",
            "=================================================================\n",
            " conv2d (Conv2D)             (None, 112, 112, 8)       224       \n",
            "                                                                 \n",
            " leaky_re_lu (LeakyReLU)     (None, 112, 112, 8)       0         \n",
            "                                                                 \n",
            " max_pooling2d (MaxPooling2D  (None, 56, 56, 8)        0         \n",
            " )                                                               \n",
            "                                                                 \n",
            " conv2d_1 (Conv2D)           (None, 28, 28, 16)        1168      \n",
            "                                                                 \n",
            " leaky_re_lu_1 (LeakyReLU)   (None, 28, 28, 16)        0         \n",
            "                                                                 \n",
            " max_pooling2d_1 (MaxPooling  (None, 14, 14, 16)       0         \n",
            " 2D)                                                             \n",
            "                                                                 \n",
            " flatten (Flatten)           (None, 3136)              0         \n",
            "                                                                 \n",
            " dense (Dense)               (None, 1)                 3137      \n",
            "                                                                 \n",
            "=================================================================\n",
            "Total params: 4,529\n",
            "Trainable params: 4,529\n",
            "Non-trainable params: 0\n",
            "_________________________________________________________________\n",
            "None\n",
            "Epoch 1/35\n",
            "90/90 [==============================] - 96s 1s/step - binary_accuracy: 0.6181 - student_loss: 0.6353 - distillation_loss: 9.0893e-07 - val_binary_accuracy: 0.6591 - val_student_loss: 0.6347\n",
            "Epoch 2/35\n",
            "90/90 [==============================] - 95s 1s/step - binary_accuracy: 0.6517 - student_loss: 0.5872 - distillation_loss: 9.0893e-07 - val_binary_accuracy: 0.6657 - val_student_loss: 0.6223\n",
            "Epoch 3/35\n",
            "90/90 [==============================] - 97s 1s/step - binary_accuracy: 0.6639 - student_loss: 0.5715 - distillation_loss: 9.0893e-07 - val_binary_accuracy: 0.6830 - val_student_loss: 0.6250\n",
            "Epoch 4/35\n",
            "90/90 [==============================] - 98s 1s/step - binary_accuracy: 0.6740 - student_loss: 0.5619 - distillation_loss: 9.0893e-07 - val_binary_accuracy: 0.6796 - val_student_loss: 0.6248\n",
            "Epoch 5/35\n",
            "90/90 [==============================] - 95s 1s/step - binary_accuracy: 0.6816 - student_loss: 0.5542 - distillation_loss: 9.0893e-07 - val_binary_accuracy: 0.6824 - val_student_loss: 0.6240\n",
            "Epoch 6/35\n",
            "90/90 [==============================] - 95s 1s/step - binary_accuracy: 0.6910 - student_loss: 0.5463 - distillation_loss: 9.0893e-07 - val_binary_accuracy: 0.6885 - val_student_loss: 0.6153\n",
            "Epoch 7/35\n",
            "90/90 [==============================] - 94s 1s/step - binary_accuracy: 0.6948 - student_loss: 0.5378 - distillation_loss: 9.0893e-07 - val_binary_accuracy: 0.6902 - val_student_loss: 0.6189\n",
            "Epoch 8/35\n",
            "90/90 [==============================] - 94s 1s/step - binary_accuracy: 0.7021 - student_loss: 0.5293 - distillation_loss: 9.0893e-07 - val_binary_accuracy: 0.6868 - val_student_loss: 0.6251\n",
            "Epoch 9/35\n",
            "90/90 [==============================] - 94s 1s/step - binary_accuracy: 0.7094 - student_loss: 0.5193 - distillation_loss: 9.0893e-07 - val_binary_accuracy: 0.6902 - val_student_loss: 0.6288\n",
            "Epoch 10/35\n",
            "90/90 [==============================] - 93s 1s/step - binary_accuracy: 0.7149 - student_loss: 0.5093 - distillation_loss: 9.0893e-07 - val_binary_accuracy: 0.6913 - val_student_loss: 0.6306\n",
            "Epoch 11/35\n",
            "90/90 [==============================] - 91s 1s/step - binary_accuracy: 0.7247 - student_loss: 0.4990 - distillation_loss: 9.0893e-07 - val_binary_accuracy: 0.6891 - val_student_loss: 0.6418\n",
            "Epoch 12/35\n",
            "90/90 [==============================] - 92s 1s/step - binary_accuracy: 0.7344 - student_loss: 0.4888 - distillation_loss: 9.0893e-07 - val_binary_accuracy: 0.6907 - val_student_loss: 0.6491\n",
            "Epoch 13/35\n",
            "90/90 [==============================] - 91s 1s/step - binary_accuracy: 0.7406 - student_loss: 0.4788 - distillation_loss: 9.0893e-07 - val_binary_accuracy: 0.6818 - val_student_loss: 0.6671\n",
            "Epoch 14/35\n",
            "90/90 [==============================] - 92s 1s/step - binary_accuracy: 0.7535 - student_loss: 0.4681 - distillation_loss: 9.0893e-07 - val_binary_accuracy: 0.6830 - val_student_loss: 0.6790\n",
            "Epoch 15/35\n",
            "90/90 [==============================] - 93s 1s/step - binary_accuracy: 0.7656 - student_loss: 0.4574 - distillation_loss: 9.0893e-07 - val_binary_accuracy: 0.6835 - val_student_loss: 0.7028\n",
            "Epoch 16/35\n",
            "90/90 [==============================] - 91s 1s/step - binary_accuracy: 0.7729 - student_loss: 0.4468 - distillation_loss: 9.0893e-07 - val_binary_accuracy: 0.6824 - val_student_loss: 0.7260\n",
            "Epoch 17/35\n",
            "90/90 [==============================] - 91s 1s/step - binary_accuracy: 0.7812 - student_loss: 0.4363 - distillation_loss: 9.0893e-07 - val_binary_accuracy: 0.6807 - val_student_loss: 0.7450\n",
            "Epoch 18/35\n",
            "90/90 [==============================] - 92s 1s/step - binary_accuracy: 0.7889 - student_loss: 0.4262 - distillation_loss: 9.0893e-07 - val_binary_accuracy: 0.6785 - val_student_loss: 0.7674\n",
            "Epoch 19/35\n",
            "90/90 [==============================] - 92s 1s/step - binary_accuracy: 0.7976 - student_loss: 0.4154 - distillation_loss: 9.0893e-07 - val_binary_accuracy: 0.6813 - val_student_loss: 0.7866\n",
            "Epoch 20/35\n",
            "90/90 [==============================] - 91s 1s/step - binary_accuracy: 0.8069 - student_loss: 0.4051 - distillation_loss: 9.0893e-07 - val_binary_accuracy: 0.6791 - val_student_loss: 0.8140\n",
            "Epoch 21/35\n",
            "90/90 [==============================] - 91s 1s/step - binary_accuracy: 0.8149 - student_loss: 0.3951 - distillation_loss: 9.0893e-07 - val_binary_accuracy: 0.6757 - val_student_loss: 0.8261\n",
            "Epoch 22/35\n",
            "90/90 [==============================] - 92s 1s/step - binary_accuracy: 0.8215 - student_loss: 0.3850 - distillation_loss: 9.0893e-07 - val_binary_accuracy: 0.6713 - val_student_loss: 0.8546\n",
            "Epoch 23/35\n",
            "90/90 [==============================] - 91s 1s/step - binary_accuracy: 0.8243 - student_loss: 0.3749 - distillation_loss: 9.0893e-07 - val_binary_accuracy: 0.6713 - val_student_loss: 0.8521\n",
            "Epoch 24/35\n",
            "90/90 [==============================] - 93s 1s/step - binary_accuracy: 0.8278 - student_loss: 0.3648 - distillation_loss: 9.0893e-07 - val_binary_accuracy: 0.6702 - val_student_loss: 0.8664\n",
            "Epoch 25/35\n",
            "90/90 [==============================] - 92s 1s/step - binary_accuracy: 0.8313 - student_loss: 0.3544 - distillation_loss: 9.0893e-07 - val_binary_accuracy: 0.6707 - val_student_loss: 0.8713\n",
            "Epoch 26/35\n",
            "90/90 [==============================] - 93s 1s/step - binary_accuracy: 0.8372 - student_loss: 0.3447 - distillation_loss: 9.0893e-07 - val_binary_accuracy: 0.6680 - val_student_loss: 0.8824\n",
            "Epoch 27/35\n",
            "90/90 [==============================] - 92s 1s/step - binary_accuracy: 0.8427 - student_loss: 0.3358 - distillation_loss: 9.0893e-07 - val_binary_accuracy: 0.6674 - val_student_loss: 0.8935\n",
            "Epoch 28/35\n",
            "90/90 [==============================] - 92s 1s/step - binary_accuracy: 0.8476 - student_loss: 0.3260 - distillation_loss: 9.0893e-07 - val_binary_accuracy: 0.6635 - val_student_loss: 0.8950\n",
            "Epoch 29/35\n",
            "90/90 [==============================] - 93s 1s/step - binary_accuracy: 0.8535 - student_loss: 0.3162 - distillation_loss: 9.0893e-07 - val_binary_accuracy: 0.6630 - val_student_loss: 0.9032\n",
            "Epoch 30/35\n",
            "90/90 [==============================] - 93s 1s/step - binary_accuracy: 0.8604 - student_loss: 0.3067 - distillation_loss: 9.0893e-07 - val_binary_accuracy: 0.6585 - val_student_loss: 0.9217\n",
            "Epoch 31/35\n",
            "90/90 [==============================] - 92s 1s/step - binary_accuracy: 0.8628 - student_loss: 0.2981 - distillation_loss: 9.0893e-07 - val_binary_accuracy: 0.6596 - val_student_loss: 0.9383\n",
            "Epoch 32/35\n",
            "90/90 [==============================] - 92s 1s/step - binary_accuracy: 0.8684 - student_loss: 0.2894 - distillation_loss: 9.0893e-07 - val_binary_accuracy: 0.6557 - val_student_loss: 0.9618\n",
            "Epoch 33/35\n",
            "90/90 [==============================] - 92s 1s/step - binary_accuracy: 0.8740 - student_loss: 0.2812 - distillation_loss: 9.0893e-07 - val_binary_accuracy: 0.6552 - val_student_loss: 0.9850\n",
            "Epoch 34/35\n",
            "90/90 [==============================] - 91s 1s/step - binary_accuracy: 0.8764 - student_loss: 0.2736 - distillation_loss: 9.0893e-07 - val_binary_accuracy: 0.6519 - val_student_loss: 1.0148\n",
            "Epoch 35/35\n",
            "90/90 [==============================] - 92s 1s/step - binary_accuracy: 0.8795 - student_loss: 0.2665 - distillation_loss: 9.0893e-07 - val_binary_accuracy: 0.6485 - val_student_loss: 1.0421\n",
            "Training execution time (mins) 54.18111528952917\n"
          ]
        },
        {
          "output_type": "display_data",
          "data": {
            "text/plain": [
              "<Figure size 1500x500 with 2 Axes>"
            ],
            "image/png": "[encoded data removed]"
          },
          "metadata": {}
        },
        {
          "output_type": "stream",
          "name": "stdout",
          "text": [
            "57/57 [==============================] - 1s 8ms/step - binary_accuracy: 0.6485 - student_loss: 0.9062\n"
          ]
        },
        {
          "output_type": "stream",
          "name": "stderr",
          "text": [
            "WARNING:tensorflow:Compiled the loaded model, but the compiled metrics have yet to be built. `model.compile_metrics` will be empty until you train or evaluate the model.\n"
          ]
        },
        {
          "output_type": "stream",
          "name": "stdout",
          "text": [
            "{'binary_accuracy': 0.6485285758972168, 'student_loss': 1.0420595407485962}\n"
          ]
        }
      ]
    },
    {
      "cell_type": "markdown",
      "metadata": {
        "id": "yqENAO6Ze4_c"
      },
      "source": [
        "## **<font color=\"#A41034\">Other flavors of Distillation</font>**"
      ]
    },
    {
      "cell_type": "markdown",
      "metadata": {
        "id": "pG5rNGhue4_l"
      },
      "source": [
        "#### **Knowlege distillation - online distillation (2  students)**\n",
        "* no teacher, 2 students, matching output (prob)"
      ]
    },
    {
      "cell_type": "code",
      "source": [],
      "metadata": {
        "id": "F4-9nxZ6jJUE"
      },
      "execution_count": null,
      "outputs": []
    },
    {
      "cell_type": "code",
      "source": [],
      "metadata": {
        "id": "Yc7fGsgBjJGf"
      },
      "execution_count": null,
      "outputs": []
    },
    {
      "cell_type": "code",
      "source": [],
      "metadata": {
        "id": "AANKZANOjI71"
      },
      "execution_count": null,
      "outputs": []
    },
    {
      "cell_type": "markdown",
      "metadata": {
        "id": "2VzDRrxlevrm"
      },
      "source": [
        "#### **Knowlege distillation - online distillation (3  students)**\n",
        "* no teacher, 3 students, matching output (prob)"
      ]
    },
    {
      "cell_type": "markdown",
      "metadata": {
        "id": "rCYPuozue4_l"
      },
      "source": [
        "#### **Knowlege distillation - Self Distillation**\n",
        "* 1st iteration: 1 teacher + 1 student, matching output (prob)\n",
        "* 2nd iteration and onwards: 1 student only"
      ]
    },
    {
      "cell_type": "markdown",
      "metadata": {
        "id": "scFKbBcH6dKH"
      },
      "source": [
        "## **<font color=\"#A41034\">Compare All Models</font>**"
      ]
    },
    {
      "cell_type": "code",
      "source": [
        "models_folder = \"models\" # distil_models / models\n",
        "models_metrics_list = glob(models_folder+\"/*_metrics.json\")\n",
        "\n",
        "all_models_metrics = []\n",
        "for mm_file in models_metrics_list:\n",
        "  with open(mm_file) as json_file:\n",
        "    model_metrics = json.load(json_file)\n",
        "    model_metrics[\"name\"] = mm_file.replace(models_folder+\"/\",\"\").replace(\"_model_metrics.json\",\"\")\n",
        "    all_models_metrics.append(model_metrics)\n",
        "\n",
        "# Load metrics to dataframe\n",
        "view_metrics = pd.DataFrame(data=all_models_metrics)\n",
        "\n",
        "# Format columns\n",
        "view_metrics['accuracy'] = view_metrics['accuracy']*100\n",
        "view_metrics['accuracy'] = view_metrics['accuracy'].map('{:,.2f}%'.format)\n",
        "\n",
        "view_metrics['trainable_parameters'] = view_metrics['trainable_parameters'].map('{:,.0f}'.format)\n",
        "view_metrics['execution_time'] = view_metrics['execution_time'].map('{:,.2f} mins'.format)\n",
        "view_metrics['loss'] = view_metrics['loss'].map('{:,.2f}'.format)\n",
        "view_metrics['model_size'] = view_metrics['model_size']/1000000\n",
        "view_metrics['model_size'] = view_metrics['model_size'].map('{:,.3f} MB'.format)\n",
        "\n",
        "view_metrics = view_metrics.sort_values(by=['accuracy'],ascending=False)\n",
        "view_metrics.head()"
      ],
      "metadata": {
        "id": "YDBzikZo-5nt",
        "colab": {
          "base_uri": "https://localhost:8080/",
          "height": 112
        },
        "outputId": "a2b298f6-e29e-4869-c30d-1fa4cfcec031"
      },
      "execution_count": null,
      "outputs": [
        {
          "output_type": "execute_result",
          "data": {
            "text/plain": [
              "  trainable_parameters execution_time  loss accuracy model_size  \\\n",
              "1                4,529      0.19 mins  0.58   68.46%   0.096 MB   \n",
              "0                4,529     54.18 mins  1.04   64.85%   0.040 MB   \n",
              "\n",
              "   learning_rate  batch_size  epochs optimizer             name  \n",
              "1          0.001          32       5      Adam  student_scratch  \n",
              "0          0.001          32      35      Adam  student_distill  "
            ],
            "text/html": [
              "\n",
              "  <div id=\"df-4f64d039-b574-4ee7-b9ca-8e9a5bd8cde4\" class=\"colab-df-container\">\n",
              "    <div>\n",
              "<style scoped>\n",
              "    .dataframe tbody tr th:only-of-type {\n",
              "        vertical-align: middle;\n",
              "    }\n",
              "\n",
              "    .dataframe tbody tr th {\n",
              "        vertical-align: top;\n",
              "    }\n",
              "\n",
              "    .dataframe thead th {\n",
              "        text-align: right;\n",
              "    }\n",
              "</style>\n",
              "<table border=\"1\" class=\"dataframe\">\n",
              "  <thead>\n",
              "    <tr style=\"text-align: right;\">\n",
              "      <th></th>\n",
              "      <th>trainable_parameters</th>\n",
              "      <th>execution_time</th>\n",
              "      <th>loss</th>\n",
              "      <th>accuracy</th>\n",
              "      <th>model_size</th>\n",
              "      <th>learning_rate</th>\n",
              "      <th>batch_size</th>\n",
              "      <th>epochs</th>\n",
              "      <th>optimizer</th>\n",
              "      <th>name</th>\n",
              "    </tr>\n",
              "  </thead>\n",
              "  <tbody>\n",
              "    <tr>\n",
              "      <th>1</th>\n",
              "      <td>4,529</td>\n",
              "      <td>0.19 mins</td>\n",
              "      <td>0.58</td>\n",
              "      <td>68.46%</td>\n",
              "      <td>0.096 MB</td>\n",
              "      <td>0.001</td>\n",
              "      <td>32</td>\n",
              "      <td>5</td>\n",
              "      <td>Adam</td>\n",
              "      <td>student_scratch</td>\n",
              "    </tr>\n",
              "    <tr>\n",
              "      <th>0</th>\n",
              "      <td>4,529</td>\n",
              "      <td>54.18 mins</td>\n",
              "      <td>1.04</td>\n",
              "      <td>64.85%</td>\n",
              "      <td>0.040 MB</td>\n",
              "      <td>0.001</td>\n",
              "      <td>32</td>\n",
              "      <td>35</td>\n",
              "      <td>Adam</td>\n",
              "      <td>student_distill</td>\n",
              "    </tr>\n",
              "  </tbody>\n",
              "</table>\n",
              "</div>\n",
              "    <div class=\"colab-df-buttons\">\n",
              "\n",
              "  <div class=\"colab-df-container\">\n",
              "    <button class=\"colab-df-convert\" onclick=\"convertToInteractive('df-4f64d039-b574-4ee7-b9ca-8e9a5bd8cde4')\"\n",
              "            title=\"Convert this dataframe to an interactive table.\"\n",
              "            style=\"display:none;\">\n",
              "\n",
              "  <svg xmlns=\"http://www.w3.org/2000/svg\" height=\"24px\" viewBox=\"0 -960 960 960\">\n",
              "    <path d=\"M120-120v-720h720v720H120Zm60-500h600v-160H180v160Zm220 220h160v-160H400v160Zm0 220h160v-160H400v160ZM180-400h160v-160H180v160Zm440 0h160v-160H620v160ZM180-180h160v-160H180v160Zm440 0h160v-160H620v160Z\"/>\n",
              "  </svg>\n",
              "    </button>\n",
              "\n",
              "  <style>\n",
              "    .colab-df-container {\n",
              "      display:flex;\n",
              "      gap: 12px;\n",
              "    }\n",
              "\n",
              "    .colab-df-convert {\n",
              "      background-color: #E8F0FE;\n",
              "      border: none;\n",
              "      border-radius: 50%;\n",
              "      cursor: pointer;\n",
              "      display: none;\n",
              "      fill: #1967D2;\n",
              "      height: 32px;\n",
              "      padding: 0 0 0 0;\n",
              "      width: 32px;\n",
              "    }\n",
              "\n",
              "    .colab-df-convert:hover {\n",
              "      background-color: #E2EBFA;\n",
              "      box-shadow: 0px 1px 2px rgba(60, 64, 67, 0.3), 0px 1px 3px 1px rgba(60, 64, 67, 0.15);\n",
              "      fill: #174EA6;\n",
              "    }\n",
              "\n",
              "    .colab-df-buttons div {\n",
              "      margin-bottom: 4px;\n",
              "    }\n",
              "\n",
              "    [theme=dark] .colab-df-convert {\n",
              "      background-color: #3B4455;\n",
              "      fill: #D2E3FC;\n",
              "    }\n",
              "\n",
              "    [theme=dark] .colab-df-convert:hover {\n",
              "      background-color: #434B5C;\n",
              "      box-shadow: 0px 1px 3px 1px rgba(0, 0, 0, 0.15);\n",
              "      filter: drop-shadow(0px 1px 2px rgba(0, 0, 0, 0.3));\n",
              "      fill: #FFFFFF;\n",
              "    }\n",
              "  </style>\n",
              "\n",
              "    <script>\n",
              "      const buttonEl =\n",
              "        document.querySelector('#df-4f64d039-b574-4ee7-b9ca-8e9a5bd8cde4 button.colab-df-convert');\n",
              "      buttonEl.style.display =\n",
              "        google.colab.kernel.accessAllowed ? 'block' : 'none';\n",
              "\n",
              "      async function convertToInteractive(key) {\n",
              "        const element = document.querySelector('#df-4f64d039-b574-4ee7-b9ca-8e9a5bd8cde4');\n",
              "        const dataTable =\n",
              "          await google.colab.kernel.invokeFunction('convertToInteractive',\n",
              "                                                    [key], {});\n",
              "        if (!dataTable) return;\n",
              "\n",
              "        const docLinkHtml = 'Like what you see? Visit the ' +\n",
              "          '<a target=\"_blank\" href=https://colab.research.google.com/notebooks/data_table.ipynb>data table notebook</a>'\n",
              "          + ' to learn more about interactive tables.';\n",
              "        element.innerHTML = '';\n",
              "        dataTable['output_type'] = 'display_data';\n",
              "        await google.colab.output.renderOutput(dataTable, element);\n",
              "        const docLink = document.createElement('div');\n",
              "        docLink.innerHTML = docLinkHtml;\n",
              "        element.appendChild(docLink);\n",
              "      }\n",
              "    </script>\n",
              "  </div>\n",
              "\n",
              "\n",
              "<div id=\"df-5cd4569b-c7ab-497c-9b39-90671507b10e\">\n",
              "  <button class=\"colab-df-quickchart\" onclick=\"quickchart('df-5cd4569b-c7ab-497c-9b39-90671507b10e')\"\n",
              "            title=\"Suggest charts.\"\n",
              "            style=\"display:none;\">\n",
              "\n",
              "<svg xmlns=\"http://www.w3.org/2000/svg\" height=\"24px\"viewBox=\"0 0 24 24\"\n",
              "     width=\"24px\">\n",
              "    <g>\n",
              "        <path d=\"M19 3H5c-1.1 0-2 .9-2 2v14c0 1.1.9 2 2 2h14c1.1 0 2-.9 2-2V5c0-1.1-.9-2-2-2zM9 17H7v-7h2v7zm4 0h-2V7h2v10zm4 0h-2v-4h2v4z\"/>\n",
              "    </g>\n",
              "</svg>\n",
              "  </button>\n",
              "\n",
              "<style>\n",
              "  .colab-df-quickchart {\n",
              "      --bg-color: #E8F0FE;\n",
              "      --fill-color: #1967D2;\n",
              "      --hover-bg-color: #E2EBFA;\n",
              "      --hover-fill-color: #174EA6;\n",
              "      --disabled-fill-color: #AAA;\n",
              "      --disabled-bg-color: #DDD;\n",
              "  }\n",
              "\n",
              "  [theme=dark] .colab-df-quickchart {\n",
              "      --bg-color: #3B4455;\n",
              "      --fill-color: #D2E3FC;\n",
              "      --hover-bg-color: #434B5C;\n",
              "      --hover-fill-color: #FFFFFF;\n",
              "      --disabled-bg-color: #3B4455;\n",
              "      --disabled-fill-color: #666;\n",
              "  }\n",
              "\n",
              "  .colab-df-quickchart {\n",
              "    background-color: var(--bg-color);\n",
              "    border: none;\n",
              "    border-radius: 50%;\n",
              "    cursor: pointer;\n",
              "    display: none;\n",
              "    fill: var(--fill-color);\n",
              "    height: 32px;\n",
              "    padding: 0;\n",
              "    width: 32px;\n",
              "  }\n",
              "\n",
              "  .colab-df-quickchart:hover {\n",
              "    background-color: var(--hover-bg-color);\n",
              "    box-shadow: 0 1px 2px rgba(60, 64, 67, 0.3), 0 1px 3px 1px rgba(60, 64, 67, 0.15);\n",
              "    fill: var(--button-hover-fill-color);\n",
              "  }\n",
              "\n",
              "  .colab-df-quickchart-complete:disabled,\n",
              "  .colab-df-quickchart-complete:disabled:hover {\n",
              "    background-color: var(--disabled-bg-color);\n",
              "    fill: var(--disabled-fill-color);\n",
              "    box-shadow: none;\n",
              "  }\n",
              "\n",
              "  .colab-df-spinner {\n",
              "    border: 2px solid var(--fill-color);\n",
              "    border-color: transparent;\n",
              "    border-bottom-color: var(--fill-color);\n",
              "    animation:\n",
              "      spin 1s steps(1) infinite;\n",
              "  }\n",
              "\n",
              "  @keyframes spin {\n",
              "    0% {\n",
              "      border-color: transparent;\n",
              "      border-bottom-color: var(--fill-color);\n",
              "      border-left-color: var(--fill-color);\n",
              "    }\n",
              "    20% {\n",
              "      border-color: transparent;\n",
              "      border-left-color: var(--fill-color);\n",
              "      border-top-color: var(--fill-color);\n",
              "    }\n",
              "    30% {\n",
              "      border-color: transparent;\n",
              "      border-left-color: var(--fill-color);\n",
              "      border-top-color: var(--fill-color);\n",
              "      border-right-color: var(--fill-color);\n",
              "    }\n",
              "    40% {\n",
              "      border-color: transparent;\n",
              "      border-right-color: var(--fill-color);\n",
              "      border-top-color: var(--fill-color);\n",
              "    }\n",
              "    60% {\n",
              "      border-color: transparent;\n",
              "      border-right-color: var(--fill-color);\n",
              "    }\n",
              "    80% {\n",
              "      border-color: transparent;\n",
              "      border-right-color: var(--fill-color);\n",
              "      border-bottom-color: var(--fill-color);\n",
              "    }\n",
              "    90% {\n",
              "      border-color: transparent;\n",
              "      border-bottom-color: var(--fill-color);\n",
              "    }\n",
              "  }\n",
              "</style>\n",
              "\n",
              "  <script>\n",
              "    async function quickchart(key) {\n",
              "      const quickchartButtonEl =\n",
              "        document.querySelector('#' + key + ' button');\n",
              "      quickchartButtonEl.disabled = true;  // To prevent multiple clicks.\n",
              "      quickchartButtonEl.classList.add('colab-df-spinner');\n",
              "      try {\n",
              "        const charts = await google.colab.kernel.invokeFunction(\n",
              "            'suggestCharts', [key], {});\n",
              "      } catch (error) {\n",
              "        console.error('Error during call to suggestCharts:', error);\n",
              "      }\n",
              "      quickchartButtonEl.classList.remove('colab-df-spinner');\n",
              "      quickchartButtonEl.classList.add('colab-df-quickchart-complete');\n",
              "    }\n",
              "    (() => {\n",
              "      let quickchartButtonEl =\n",
              "        document.querySelector('#df-5cd4569b-c7ab-497c-9b39-90671507b10e button');\n",
              "      quickchartButtonEl.style.display =\n",
              "        google.colab.kernel.accessAllowed ? 'block' : 'none';\n",
              "    })();\n",
              "  </script>\n",
              "</div>\n",
              "\n",
              "    </div>\n",
              "  </div>\n"
            ]
          },
          "metadata": {},
          "execution_count": 63
        }
      ]
    },
    {
      "cell_type": "markdown",
      "metadata": {
        "id": "AYpOZCyz-yes"
      },
      "source": [
        "## **<font color=\"#A41034\">template</font>**"
      ]
    },
    {
      "cell_type": "markdown",
      "metadata": {
        "id": "2s-EeqLk-ye2"
      },
      "source": [
        "#### **Utils**\n",
        "\n",
        "Here are some util functions that we will be using for this notebook"
      ]
    },
    {
      "cell_type": "markdown",
      "metadata": {
        "id": "vzRalVN1-ye2"
      },
      "source": [
        "#### **Utils**\n",
        "\n",
        "Here are some util functions that we will be using for this notebook"
      ]
    },
    {
      "cell_type": "markdown",
      "metadata": {
        "id": "9ObajXBE-y54"
      },
      "source": [
        "## **<font color=\"#A41034\">template</font>**"
      ]
    },
    {
      "cell_type": "markdown",
      "metadata": {
        "id": "jhFrAwsQ-y55"
      },
      "source": [
        "#### **Utils**\n",
        "\n",
        "Here are some util functions that we will be using for this notebook"
      ]
    },
    {
      "cell_type": "markdown",
      "metadata": {
        "id": "njbMwsKJ-y55"
      },
      "source": [
        "#### **Utils**\n",
        "\n",
        "Here are some util functions that we will be using for this notebook"
      ]
    },
    {
      "cell_type": "code",
      "source": [],
      "metadata": {
        "id": "U75224q5nFTM"
      },
      "execution_count": null,
      "outputs": []
    }
  ]
}